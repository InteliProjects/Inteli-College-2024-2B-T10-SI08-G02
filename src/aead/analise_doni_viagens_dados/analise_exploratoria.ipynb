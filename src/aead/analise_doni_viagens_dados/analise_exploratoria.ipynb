{
 "cells": [
  {
   "cell_type": "markdown",
   "id": "2c553415",
   "metadata": {},
   "source": [
    "# Exploração da Tabela DONI_STG_GHR_VW_VIAGEM_MSTRBI_DADOS\n",
    "\n",
    "Este código python tem como objetivo explorar a tabela *DONI_STG_GHR_VW_VIAGEM_MSTRBI_DADOS* com o intuíto de compreender os dados, possibilitando o melhor processamento e tratamento dos mesmos.\n",
    "\n",
    "**Obs:** Esta exploração não foi concluída. Ao falar com o Afonso ( professor de programação atrelado ao projeto ), percebemos que os dados estão errados ou faltantes. Tal aspecto deixava os cálculos da exploração enviesados, por isso foi decidio que a exploração seria trancada até novo envio da base de dados pela CPTM."
   ]
  },
  {
   "cell_type": "markdown",
   "id": "053bfd80",
   "metadata": {},
   "source": [
    "## Importação da Bibliotecas\n",
    "\n",
    "As bibliotecas utilizadas são básicas de quase todas as exploração de dados. É possível visualizar no bloco de código a baixo bibliotecas que auxiliam na leitura e exploração da bases (pandas), bibliotecas de plotagem de gráficos (seaborn e matplotlib.pyplot), uma biblioteca para identificar para detectar automaticamente a codificação de caracteres em um arquivo (chardet) e para transformar variáveis categóricas em numéricas (LabelEncoder). A partir deste cenário temos o seguinte bloco de código com a importação dessas bibliotecas."
   ]
  },
  {
   "cell_type": "code",
   "execution_count": null,
   "id": "79398fbc-da33-4577-8863-9ea2c782e09f",
   "metadata": {},
   "outputs": [],
   "source": [
    "import pandas as pd\n",
    "import chardet\n",
    "import seaborn as sns\n",
    "import matplotlib.pyplot as plt\n",
    "from sklearn.preprocessing import LabelEncoder"
   ]
  },
  {
   "cell_type": "markdown",
   "id": "7dfdaf1f",
   "metadata": {},
   "source": [
    "## Exploração dos Dados\n",
    "\n",
    "A exploração de dados auxilia no entendimento dos dados do projeto e como é possível trabalhar com eles para transformá-los em informações úteis para tomadas de decisão, além de melhor entendimento dos processos empresariais e outros ganhos que esta prática traz. Normalmente a exploração de dados pode ser feita de diversas formas, o mais comum entre os programadores é realizar a exploração de dados Diagnóstica (busca padrões dentro dos dados) e Associativa (busca identificar relações entre itens em grandes conjuntos de dados). Nesse sentido, as com os tipos de análises definidas foram feitos os passos, representados nos blocos de código a baixo."
   ]
  },
  {
   "cell_type": "code",
   "execution_count": null,
   "id": "7d29740d",
   "metadata": {},
   "outputs": [],
   "source": [
    "file_path = \"DONI_STG_GHR_VW_VIAGEM_MSTRBI_DADOS.csv\"\n",
    "\n",
    "with open(file_path, 'rb') as f:\n",
    "    result = chardet.detect(f.read())\n",
    "    encoding = result['encoding']"
   ]
  },
  {
   "cell_type": "code",
   "execution_count": null,
   "id": "a9c5a865-0dd9-4586-9479-674018d4c879",
   "metadata": {},
   "outputs": [],
   "source": [
    "df = pd.read_csv(file_path, sep = ',', encoding = encoding) \n",
    "print(df.head())"
   ]
  },
  {
   "cell_type": "code",
   "execution_count": null,
   "id": "e07197ba-0d33-409a-8100-e48109df77ed",
   "metadata": {},
   "outputs": [],
   "source": [
    "df['DT_OPERACIONAL']"
   ]
  },
  {
   "cell_type": "markdown",
   "id": "613c4ce9",
   "metadata": {},
   "source": [
    "### Campos Nulos da Tabela\n",
    "\n",
    "A partir do print da quantidade dos campos nulos nas tabelas foi possível identificar uma grande quantidade dos mesmos dentro da base. Nesse sentido, com uma grande quantidade de dados nulos, a exploração e tratamento dos dados pode ser dificultada."
   ]
  },
  {
   "cell_type": "code",
   "execution_count": null,
   "id": "8335f282-da77-4eea-ada8-052532efb51b",
   "metadata": {},
   "outputs": [],
   "source": [
    "nulos_por_coluna = df.isnull().sum()\n",
    "\n",
    "colunas_com_nulos = nulos_por_coluna[nulos_por_coluna > 0]\n",
    "print(colunas_com_nulos)"
   ]
  },
  {
   "cell_type": "code",
   "execution_count": null,
   "id": "410187e0-aa98-46be-8d63-e6002469a4c0",
   "metadata": {},
   "outputs": [],
   "source": [
    "df.info()"
   ]
  },
  {
   "cell_type": "markdown",
   "id": "d4e18169",
   "metadata": {},
   "source": [
    "### Plotagem dos Gráficos\n",
    "\n",
    "Esta etapa é impresindível para entender melhor a distribuição dos dados. A plotagem do primeiro gráfico tem como finalidade entender quais linhas tem maiores registros de viagens, utilizando a bibilioteca matplotlib para o display do gráfico gerado. Ademais, a contagem foi distribuída dentro de barras para facilitar a visualização da diferenção da quantidade de viagem de cada linha.\n",
    "\n",
    "O segundo gráfico tem como finalidade entender como as variáveis numérias se relacionam umas com as outras. Quanto maior sua relação mais quente é sua cor e o contrário também é verdade, quanto menor a sua relação com outra variável mais fria é a cor. Portanto, a plotagem do heatmap é muito importante para entender como as variáveis se relacionam dentro do datase, podendo trazer insights e descoberta de padrões de comportamento do dataset."
   ]
  },
  {
   "cell_type": "code",
   "execution_count": null,
   "id": "e27a439d-dd48-4843-a2bb-6647e83f9add",
   "metadata": {},
   "outputs": [],
   "source": [
    "linha_viagens = df['DT_OPERACIONAL'].value_counts()\n",
    "\n",
    "plt.figure(figsize=(10, 6))\n",
    "sns.barplot(x=linha_viagens.values, y=linha_viagens.index, palette='viridis')\n",
    "\n",
    "plt.title('Número de Viagens por Linha Operacional', fontsize=16)\n",
    "plt.xlabel('Número de Viagens')\n",
    "plt.ylabel('Linha Operacional')\n",
    "\n",
    "plt.show()"
   ]
  },
  {
   "cell_type": "code",
   "execution_count": null,
   "id": "bc1904e5-6add-49af-8fbe-b8f15311555f",
   "metadata": {},
   "outputs": [],
   "source": [
    "df_numeric = df.select_dtypes(include=[float, int])\n",
    "\n",
    "corr_df = df_numeric.corr()\n",
    "\n",
    "plt.figure(figsize=(12, 8))\n",
    "sns.heatmap(corr_df, annot=True, cmap='coolwarm')\n",
    "plt.title('Correlação entre Variáveis - Matemática')\n",
    "plt.show()"
   ]
  }
 ],
 "metadata": {
  "kernelspec": {
   "display_name": "Python (BVM)",
   "language": "python",
   "name": "myenv"
  },
  "language_info": {
   "codemirror_mode": {
    "name": "ipython",
    "version": 3
   },
   "file_extension": ".py",
   "mimetype": "text/x-python",
   "name": "python",
   "nbconvert_exporter": "python",
   "pygments_lexer": "ipython3",
   "version": "3.11.1"
  }
 },
 "nbformat": 4,
 "nbformat_minor": 5
}
