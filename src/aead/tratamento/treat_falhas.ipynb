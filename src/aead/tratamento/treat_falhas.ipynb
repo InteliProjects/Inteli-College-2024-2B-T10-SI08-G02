{
  "cells": [
    {
      "cell_type": "markdown",
      "metadata": {
        "id": "a-qukyculaNH"
      },
      "source": [
        "# Análise Exploratória da Tabela de Requisição de Materiais\n",
        "\n",
        "Este notebook apresenta a análise exploratória de dados da tabela de requisição de materiais. o principal intuito desta análise é entender melhor os dados relacionados a materiais e a partir disto gerar hipóteses.\n",
        "\n",
        "Nesse sentido, aqui serão examinadas as principais características de um conjunto de dados, identificando padrões, tendências, outliers e possíveis relações entre variáveis. Utilizando estatísticas descritivas, gráficos e visualizações, a AED ajudará a entender a estrutura dos dados, verificar hipóteses e orientar etapas futuras, como modelagem ou limpeza. Essa análise é essencial para fazer escolhas informadas sobre quais métodos e técnicas aplicar no restante do projeto."
      ]
    },
    {
      "cell_type": "code",
      "execution_count": null,
      "metadata": {
        "colab": {
          "base_uri": "https://localhost:8080/"
        },
        "id": "MIh7mH1kEDaY",
        "outputId": "04c1217a-27b1-4934-d0d7-a3c42b7903a3"
      },
      "outputs": [],
      "source": [
        "%pip install klib"
      ]
    },
    {
      "cell_type": "code",
      "execution_count": null,
      "metadata": {
        "id": "zvu28Vb3wOke"
      },
      "outputs": [],
      "source": [
        "import pandas as pd\n",
        "import numpy as np\n",
        "import matplotlib.pyplot as plt\n",
        "import seaborn as sns\n",
        "import klib"
      ]
    },
    {
      "cell_type": "code",
      "execution_count": null,
      "metadata": {
        "colab": {
          "base_uri": "https://localhost:8080/",
          "height": 342
        },
        "id": "I_U8ar6CwVTc",
        "outputId": "d6e5dbf1-b410-4249-cfcd-49db7e7301e2"
      },
      "outputs": [],
      "source": [
        "df = pd.read_csv('sample_data/tabela_big_data_ft_falhas.csv', encoding='latin-1', delimiter='\\t', on_bad_lines='skip')\n",
        "\n",
        "df.head()"
      ]
    },
    {
      "cell_type": "code",
      "execution_count": null,
      "metadata": {
        "colab": {
          "base_uri": "https://localhost:8080/"
        },
        "id": "amL48shjwVQV",
        "outputId": "1b1dd5ef-f9dc-4eae-b4f2-ed6b89f5c089"
      },
      "outputs": [],
      "source": [
        "df.info()"
      ]
    },
    {
      "cell_type": "code",
      "execution_count": null,
      "metadata": {
        "colab": {
          "base_uri": "https://localhost:8080/",
          "height": 320
        },
        "id": "P1HWdpGUENYn",
        "outputId": "1e526e07-6656-48c1-ae1d-846d47f7255f"
      },
      "outputs": [],
      "source": [
        "df.describe()"
      ]
    },
    {
      "cell_type": "code",
      "execution_count": null,
      "metadata": {
        "colab": {
          "base_uri": "https://localhost:8080/"
        },
        "id": "vTo2fPN6HMkz",
        "outputId": "23cca9ba-5fb5-40f3-b689-ef47faf67b06"
      },
      "outputs": [],
      "source": [
        "df.columns"
      ]
    },
    {
      "cell_type": "code",
      "execution_count": null,
      "metadata": {
        "id": "ltTEHm8eINBk"
      },
      "outputs": [],
      "source": [
        "df = df.rename(columns=lambda x: x.replace(\"'\", \"\").replace('\"', \"\"))"
      ]
    },
    {
      "cell_type": "code",
      "execution_count": null,
      "metadata": {
        "colab": {
          "base_uri": "https://localhost:8080/",
          "height": 617
        },
        "id": "bh7pPHXIKQir",
        "outputId": "4c8f0269-1560-428e-9c35-57ce2215130a"
      },
      "outputs": [],
      "source": [
        "df"
      ]
    },
    {
      "cell_type": "code",
      "execution_count": null,
      "metadata": {
        "id": "aVqautKAFz2M"
      },
      "outputs": [],
      "source": [
        "columns_to_drop = ['TEMPO_ATENDIMENTO_2','TEMPO_INDISPONIVEL_2','TEMPO_LIBERACAO_2','TEMPO_REPARO_LIB_2','TEMPO_REPARO_TOTAL_2','DIM_ATUACAO_SK']\n",
        "\n",
        "df_cleaned = df.drop(columns=columns_to_drop)"
      ]
    },
    {
      "cell_type": "code",
      "execution_count": null,
      "metadata": {
        "id": "e5PrNTaoImbt"
      },
      "outputs": [],
      "source": [
        "df_cleaned = df_cleaned.dropna()"
      ]
    },
    {
      "cell_type": "code",
      "execution_count": null,
      "metadata": {
        "id": "Ef-y6yBzLf8E"
      },
      "outputs": [],
      "source": [
        "df_nodup = df_cleaned.drop_duplicates()"
      ]
    },
    {
      "cell_type": "code",
      "execution_count": null,
      "metadata": {
        "colab": {
          "base_uri": "https://localhost:8080/",
          "height": 617
        },
        "id": "lMBzRaKvLqfy",
        "outputId": "f7b00d69-eea5-4864-d8fa-781e2e8aa89a"
      },
      "outputs": [],
      "source": [
        "df_nodup"
      ]
    },
    {
      "cell_type": "code",
      "execution_count": null,
      "metadata": {
        "id": "AT7_iydvL5wY"
      },
      "outputs": [],
      "source": [
        "df_nodup.reset_index(drop=True, inplace=True)"
      ]
    },
    {
      "cell_type": "code",
      "execution_count": null,
      "metadata": {
        "colab": {
          "base_uri": "https://localhost:8080/"
        },
        "id": "b_8hMEfcMKCN",
        "outputId": "468ff20a-3099-4e99-d516-6dea5b39fdf3"
      },
      "outputs": [],
      "source": [
        "import pandas as pd\n",
        "import polars as pl\n",
        "\n",
        "df_nodup = df_nodup.astype(str)\n",
        "\n",
        "pl_df = pl.from_pandas(df_nodup)\n",
        "\n",
        "numeric_columns = []\n",
        "for col in pl_df.columns:\n",
        "    sample_values = pl_df[col].head(100)\n",
        "    sample_values = sample_values.str.strip_chars(\"'\\\"\")\n",
        "    sample_values = sample_values.str.replace_all(',', '.')\n",
        "    sample_floats = sample_values.cast(pl.Float64, strict=False)\n",
        "    num_non_null = sample_floats.drop_nulls().len()\n",
        "    num_total = sample_floats.len()\n",
        "    if num_total > 0 and (num_non_null / num_total) >= 0.8:\n",
        "        numeric_columns.append(col)\n",
        "\n",
        "for col in numeric_columns:\n",
        "    pl_df = pl_df.with_columns(\n",
        "        pl.col(col).str.strip_chars(\"'\\\"\").alias(col)\n",
        "    )\n",
        "\n",
        "    pl_df = pl_df.with_columns(\n",
        "        pl.col(col).str.replace_all(',', '.').alias(col)\n",
        "    )\n",
        "\n",
        "    pl_df = pl_df.with_columns(\n",
        "        pl.col(col).cast(pl.Float64, strict=False).alias(col)\n",
        "    )\n",
        "\n",
        "    pl_df_non_null = pl_df[col].drop_nulls()\n",
        "    if len(pl_df_non_null) == 0:\n",
        "        continue\n",
        "\n",
        "    is_integer = (pl_df_non_null % 1 == 0) | (pl_df_non_null.is_null())\n",
        "    if is_integer.all():\n",
        "        pl_df = pl_df.with_columns(\n",
        "            pl.col(col).cast(pl.Int64, strict=False).alias(col)\n",
        "        )\n",
        "\n",
        "df_cleaned = pl_df.to_pandas()\n",
        "\n",
        "print(df_cleaned)\n"
      ]
    },
    {
      "cell_type": "code",
      "execution_count": null,
      "metadata": {
        "colab": {
          "base_uri": "https://localhost:8080/",
          "height": 617
        },
        "id": "jDzbeP3eSZfJ",
        "outputId": "53cb6305-e236-4a93-ee61-c4ffc16d2c29"
      },
      "outputs": [],
      "source": [
        "df_cleaned"
      ]
    },
    {
      "cell_type": "code",
      "execution_count": null,
      "metadata": {
        "colab": {
          "base_uri": "https://localhost:8080/",
          "height": 451
        },
        "id": "u6DlfBdUonM1",
        "outputId": "ccbb1809-afc2-42c3-f8ca-8e5225ef4f83"
      },
      "outputs": [],
      "source": [
        "import pandas as pd\n",
        "import matplotlib.pyplot as plt\n",
        "\n",
        "falhas_por_equipamento = df_cleaned['ID_EQUIPAMENTO'].value_counts().head(10)\n",
        "\n",
        "falhas_por_equipamento.plot(kind='bar', figsize=(10,6))\n",
        "plt.title('Top 10 Equipamentos com Mais Falhas')\n",
        "plt.xlabel('ID do Equipamento')\n",
        "plt.ylabel('Número de Falhas')\n",
        "plt.xticks(rotation=45)\n",
        "plt.show()\n"
      ]
    },
    {
      "cell_type": "code",
      "execution_count": null,
      "metadata": {
        "colab": {
          "base_uri": "https://localhost:8080/",
          "height": 344
        },
        "id": "io0-APfyoxOk",
        "outputId": "d10b58f5-e7cd-483f-fae0-e50e85e1c25a"
      },
      "outputs": [],
      "source": [
        "df_cleaned['Data_Falha'] = pd.to_datetime(df_cleaned['ID_DT_FALHA'], format='%Y%m%d')\n",
        "\n",
        "tempo_indisponivel_por_data = df_cleaned.groupby('Data_Falha')['TEMPO_INDISPONIVEL'].sum()\n",
        "\n",
        "tempo_indisponivel_por_data.plot(figsize=(12,6))\n",
        "plt.title('Tempo Indisponível por Data de Falha')\n",
        "plt.xlabel('Data da Falha')\n",
        "plt.ylabel('Tempo Indisponível (Soma)')\n",
        "plt.show()"
      ]
    },
    {
      "cell_type": "code",
      "execution_count": null,
      "metadata": {
        "colab": {
          "base_uri": "https://localhost:8080/",
          "height": 500
        },
        "id": "V1j5NIV3o1hC",
        "outputId": "78c546b6-4606-49aa-e600-d0d40082a005"
      },
      "outputs": [],
      "source": [
        "falhas_por_localidade = df_cleaned['LOCALIDADE'].value_counts().head(10)\n",
        "\n",
        "falhas_por_localidade.plot(kind='bar', figsize=(10,6))\n",
        "plt.title('Top 10 Localidades com Mais Falhas')\n",
        "plt.xlabel('Localidade')\n",
        "plt.ylabel('Número de Falhas')\n",
        "plt.xticks(rotation=45)\n",
        "plt.show()"
      ]
    },
    {
      "cell_type": "code",
      "execution_count": null,
      "metadata": {
        "colab": {
          "base_uri": "https://localhost:8080/",
          "height": 472
        },
        "id": "Bs9hZbuqpDiP",
        "outputId": "93d53eab-43a1-47d8-beed-b637ae350729"
      },
      "outputs": [],
      "source": [
        "import seaborn as sns\n",
        "\n",
        "sns.scatterplot(data=df_cleaned, x='NR_TEMPO_ACESSO', y='TEMPO_INDISPONIVEL')\n",
        "plt.title('Tempo Indisponível vs. Tempo de Acesso')\n",
        "plt.xlabel('Tempo de Acesso')\n",
        "plt.ylabel('Tempo Indisponível')\n",
        "plt.show()\n"
      ]
    },
    {
      "cell_type": "code",
      "execution_count": null,
      "metadata": {
        "colab": {
          "base_uri": "https://localhost:8080/",
          "height": 545
        },
        "id": "sa2ztdpVpJF9",
        "outputId": "1794b7d1-47ee-440a-8cec-463060fccb6d"
      },
      "outputs": [],
      "source": [
        "colunas_numericas = ['TEMPO_LIBERACAO', 'TEMPO_INDISPONIVEL', 'NR_TEMPO_ACESSO']\n",
        "\n",
        "df_numerico = df_cleaned[colunas_numericas]\n",
        "\n",
        "matriz_corr = df_numerico.corr()\n",
        "\n",
        "plt.figure(figsize=(8,6))\n",
        "sns.heatmap(matriz_corr, annot=True, cmap='coolwarm')\n",
        "plt.title('Heatmap de Correlação')\n",
        "plt.show()\n"
      ]
    },
    {
      "cell_type": "code",
      "execution_count": null,
      "metadata": {
        "colab": {
          "base_uri": "https://localhost:8080/",
          "height": 484
        },
        "id": "k8suUwlupRqJ",
        "outputId": "12a37273-3296-4c8b-d9d1-a07bfd3c179a"
      },
      "outputs": [],
      "source": [
        "contingencia = pd.crosstab(df_cleaned['ID_EQUIPAMENTO'], df_cleaned['TX_GARANTIA'])\n",
        "\n",
        "top_equipamentos = df_cleaned['ID_EQUIPAMENTO'].value_counts().head(10).index\n",
        "contingencia_top = contingencia.loc[top_equipamentos]\n",
        "\n",
        "contingencia_top.plot(kind='bar', stacked=True, figsize=(12,8))\n",
        "plt.title('Falhas por Equipamento e Tipo de Garantia')\n",
        "plt.xlabel('ID do Equipamento')\n",
        "plt.ylabel('Número de Falhas')\n",
        "plt.legend(title='Tipo de Garantia')\n",
        "plt.xticks(rotation=45)\n",
        "plt.show()\n"
      ]
    },
    {
      "cell_type": "code",
      "execution_count": null,
      "metadata": {
        "colab": {
          "base_uri": "https://localhost:8080/",
          "height": 429
        },
        "id": "-jigNJE9pW29",
        "outputId": "80692637-21dd-4485-a722-bdedb99085e6"
      },
      "outputs": [],
      "source": [
        "df_cleaned['Ano_Falha'] = df_cleaned['Data_Falha'].dt.year\n",
        "\n",
        "falhas_por_ano = df_cleaned['Ano_Falha'].value_counts().sort_index()\n",
        "\n",
        "falhas_por_ano.plot(kind='line', marker='o', figsize=(10,6))\n",
        "plt.title('Número de Falhas por Ano')\n",
        "plt.xlabel('Ano')\n",
        "plt.ylabel('Número de Falhas')\n",
        "plt.show()\n"
      ]
    },
    {
      "cell_type": "code",
      "execution_count": null,
      "metadata": {
        "colab": {
          "base_uri": "https://localhost:8080/",
          "height": 622
        },
        "id": "ifdwsXd0pZ8P",
        "outputId": "4baf7afe-73bf-475b-db4c-26118591b819"
      },
      "outputs": [],
      "source": [
        "sns.boxplot(data=df_cleaned, x='TX_GARANTIA', y='TEMPO_INDISPONIVEL')\n",
        "plt.title('Tempo Indisponível por Tipo de Garantia')\n",
        "plt.xlabel('Tipo de Garantia')\n",
        "plt.ylabel('Tempo Indisponível')\n",
        "plt.xticks(rotation=45)\n",
        "plt.show()\n"
      ]
    },
    {
      "cell_type": "code",
      "execution_count": null,
      "metadata": {
        "colab": {
          "base_uri": "https://localhost:8080/",
          "height": 461
        },
        "id": "nCvbT1bdpd2k",
        "outputId": "71908faf-0208-46f1-b826-6ea9ec3af594"
      },
      "outputs": [],
      "source": [
        "media_tempo_por_equipamento = df_cleaned.groupby('ID_EQUIPAMENTO')['TEMPO_INDISPONIVEL'].mean().sort_values(ascending=False).head(10)\n",
        "\n",
        "media_tempo_por_equipamento.plot(kind='bar', figsize=(10,6))\n",
        "plt.title('Média do Tempo Indisponível por Equipamento (Top 10)')\n",
        "plt.xlabel('ID do Equipamento')\n",
        "plt.ylabel('Tempo Indisponível (Média)')\n",
        "plt.xticks(rotation=45)\n",
        "plt.show()\n"
      ]
    },
    {
      "cell_type": "markdown",
      "metadata": {
        "id": "S1eH7MoEnhxg"
      },
      "source": [
        "### Hipóteses para Análise de Requisição de Materiais\n",
        "\n",
        "1. **A Falta de Materiais Críticos Aumenta o Tempo de Indisponibilidade dos Equipamentos**:\n",
        "   - Hipótese: A ausência de certos materiais essenciais pode causar atrasos significativos no processo de reparo, prolongando o tempo de indisponibilidade dos equipamentos. Esta hipótese pode ser testada analisando o impacto de materiais indisponíveis nos tempos de reparo e atendimento.\n",
        "\n",
        "2. **Problemas na Gestão de Estoque Contribuem para Atrasos no Atendimento de Falhas**:\n",
        "   - Hipótese: A gestão ineficaz de estoque, como o estoque insuficiente de peças de reposição, pode resultar em atrasos no atendimento de falhas. Analisar a correlação entre a quantidade de itens em estoque e a frequência de falhas não atendidas ou demoradas pode ajudar a validar essa hipótese.\n",
        "\n",
        "3. **Demandas de Requisição Não Planejadas Afetam a Programação de Manutenções**:\n",
        "   - Hipótese: Requisições de materiais não planejadas impactam a programação de manutenções preventivas, desviando recursos e materiais para atendimentos emergenciais. Esta hipótese pode ser avaliada analisando o impacto das requisições de última hora nos cronogramas de manutenção.\n",
        "\n",
        "4. **Locais com Alta Frequência de Falhas Requerem Estoque de Materiais Específicos**:\n",
        "   - Hipótese: Em locais com maior volume de falhas, é necessário manter um estoque local de peças frequentemente requisitadas para reduzir o tempo de atendimento e reparo. Esta hipótese pode ser investigada ao relacionar a frequência de falhas por localidade com os materiais disponíveis em estoque.\n",
        "\n",
        "5. **Equipamentos Fora de Garantia Demandam Mais Requisições de Materiais**:\n",
        "   - Hipótese: Equipamentos fora da garantia podem ter uma necessidade maior de peças de reposição, o que aumenta a demanda por requisições de materiais. Analisar a relação entre o status de garantia dos equipamentos e a quantidade de materiais requisitados pode fornecer insights sobre essa hipótese.\n",
        "\n",
        "6. **Atrasos nas Requisições de Materiais Afetam o Cumprimento dos Prazos de Reparo**:\n",
        "   - Hipótese: Processos demorados para a aprovação e liberação de requisições de materiais impactam negativamente os prazos de reparo, gerando mais tempo de equipamento inativo. Para validar essa hipótese, pode-se observar a relação entre o tempo de aprovação das requisições e o tempo total de reparo.\n"
      ]
    },
    {
      "cell_type": "code",
      "execution_count": null,
      "metadata": {
        "colab": {
          "base_uri": "https://localhost:8080/"
        },
        "id": "GiU6G_EDEvn3",
        "outputId": "92805183-a575-4947-aad0-da8d5398f1b3"
      },
      "outputs": [],
      "source": [
        "!pip install pyarrow\n"
      ]
    },
    {
      "cell_type": "code",
      "execution_count": null,
      "metadata": {
        "id": "q74uh2pJgSDU"
      },
      "outputs": [],
      "source": [
        "df_nodup.to_parquet('seu_arquivo.parquet', engine='pyarrow', index=False)\n"
      ]
    },
    {
      "cell_type": "code",
      "execution_count": null,
      "metadata": {
        "colab": {
          "base_uri": "https://localhost:8080/",
          "height": 17
        },
        "id": "VPvmsqqwkGyT",
        "outputId": "9eb2ebc3-aa9f-456e-90a0-6ed8af338257"
      },
      "outputs": [],
      "source": [
        "from google.colab import files\n",
        "files.download('seu_arquivo.parquet')"
      ]
    }
  ],
  "metadata": {
    "colab": {
      "provenance": []
    },
    "kernelspec": {
      "display_name": "Python 3",
      "name": "python3"
    },
    "language_info": {
      "name": "python",
      "version": "3.12.3"
    }
  },
  "nbformat": 4,
  "nbformat_minor": 0
}
