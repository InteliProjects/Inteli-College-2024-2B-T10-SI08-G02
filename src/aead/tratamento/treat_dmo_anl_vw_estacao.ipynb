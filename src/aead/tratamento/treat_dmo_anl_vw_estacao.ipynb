{
 "cells": [
  {
   "cell_type": "markdown",
   "metadata": {},
   "source": [
    "# Análise Exploratória da Tabela 'dmo_anl_vw_estacao'"
   ]
  },
  {
   "cell_type": "markdown",
   "metadata": {},
   "source": [
    "Este notebook apresenta a análise exploratória de dados da tabela 'dmo_anl_vw_estacao'. o principal intuito desta análise é entender melhor os dados desta tabela e se possível gerar hipóteses e insights que se relacionem com a área de materiais.\n",
    "\n",
    "Nesse sentido, aqui serão examinadas as principais características de um conjunto de dados, identificando padrões, tendências, outliers e possíveis relações entre variáveis. Utilizando estatísticas descritivas, gráficos e visualizações, a AED ajudará a entender a estrutura dos dados, verificar hipóteses e orientar etapas futuras, como modelagem ou limpeza. Essa análise é essencial para fazer escolhas informadas sobre quais métodos e técnicas aplicar no restante do projeto.\n",
    "\n",
    "O notebook apresenta as seguintes seções:\n",
    "1. Instalações\n",
    "2. Importação da Base\n",
    "3. Início das Análises \n",
    "4. Considerações Finais"
   ]
  },
  {
   "cell_type": "markdown",
   "metadata": {},
   "source": [
    "# 1. Instalações\n"
   ]
  },
  {
   "cell_type": "code",
   "execution_count": null,
   "metadata": {},
   "outputs": [],
   "source": [
    "%pip install boto3\n",
    "\n",
    "import pandas as pd\n",
    "import matplotlib.pyplot as plt\n",
    "import seaborn as sns\n",
    "from sklearn.preprocessing import LabelEncoder\n",
    "import numpy as np\n",
    "from sklearn.decomposition import PCA\n",
    "from sklearn.preprocessing import StandardScaler\n",
    "import boto3\n",
    "import pandas as pd\n",
    "import pyarrow.parquet as pq"
   ]
  },
  {
   "cell_type": "code",
   "execution_count": null,
   "metadata": {},
   "outputs": [],
   "source": [
    "%pip install openpyxl"
   ]
  },
  {
   "cell_type": "markdown",
   "metadata": {},
   "source": [
    "# 2. Importação da Base"
   ]
  },
  {
   "cell_type": "code",
   "execution_count": null,
   "metadata": {},
   "outputs": [],
   "source": [
    "database = pd.read_excel('Consumo.xlsx')"
   ]
  },
  {
   "cell_type": "code",
   "execution_count": null,
   "metadata": {},
   "outputs": [],
   "source": [
    "database.head()\n"
   ]
  },
  {
   "cell_type": "code",
   "execution_count": null,
   "metadata": {},
   "outputs": [],
   "source": [
    "# Contar o número total de NaN no DataFrame\n",
    "total_nan = database.isna().sum().sum()\n",
    "print(\"Número total de valores NaN:\", total_nan)\n",
    "\n",
    "# Contar o número total de linhas duplicadas\n",
    "total_duplicates = database.duplicated().sum()\n",
    "print(\"Número total de linhas duplicadas:\", total_duplicates)"
   ]
  },
  {
   "cell_type": "code",
   "execution_count": null,
   "metadata": {},
   "outputs": [],
   "source": [
    "# Identificar as duplicatas, mantendo apenas a primeira ocorrência\n",
    "duplicated_rows = database[database.duplicated(keep='first')]\n",
    "\n",
    "# Mostrar cada linha duplicada e sua linha original correspondente\n",
    "print(\"Linhas duplicadas e seus índices originais:\")\n",
    "\n",
    "for index in duplicated_rows.index:\n",
    "    # Encontra a primeira ocorrência da linha duplicada\n",
    "    original_index = database[database.eq(database.loc[index]).all(axis=1)].index[0]\n",
    "    print(f\"Linha duplicada no índice {index} é igual à linha original no índice {original_index}\")"
   ]
  },
  {
   "cell_type": "code",
   "execution_count": null,
   "metadata": {},
   "outputs": [],
   "source": [
    "database_duplicatas=  database.drop_duplicates(keep='first')\n",
    "print(\"DataFrame sem duplicatas:\")\n",
    "print(database_duplicatas)"
   ]
  },
  {
   "cell_type": "code",
   "execution_count": null,
   "metadata": {},
   "outputs": [],
   "source": [
    "# Definir a primeira linha como cabeçalho\n",
    "database_duplicatas.columns = database_duplicatas.iloc[0]  # Define a primeira linha como cabeçalho\n",
    "df = database_duplicatas[1:].reset_index(drop=True)  # Remove a primeira linha e redefine o índice\n",
    "\n",
    "df.head()"
   ]
  },
  {
   "cell_type": "code",
   "execution_count": null,
   "metadata": {},
   "outputs": [],
   "source": [
    "\n",
    "# Supondo que 'df' seja o seu DataFrame\n",
    "empty_rows = df.isnull().all(axis=1).sum()\n",
    "print(f\"Número de linhas vazias: {empty_rows}\")\n"
   ]
  },
  {
   "cell_type": "code",
   "execution_count": null,
   "metadata": {},
   "outputs": [],
   "source": [
    "df.attrs.clear()"
   ]
  },
  {
   "cell_type": "code",
   "execution_count": null,
   "metadata": {},
   "outputs": [],
   "source": [
    "df.to_parquet('../../datalake/consumo_2019-2024.parquet')"
   ]
  },
  {
   "cell_type": "code",
   "execution_count": null,
   "metadata": {},
   "outputs": [],
   "source": [
    "%pip install unidecode\n",
    "from unidecode import unidecode\n",
    "\n",
    "df.columns = [unidecode(col) for col in df.columns]\n",
    "\n",
    "\n"
   ]
  },
  {
   "cell_type": "code",
   "execution_count": null,
   "metadata": {},
   "outputs": [],
   "source": [
    "df"
   ]
  },
  {
   "cell_type": "markdown",
   "metadata": {},
   "source": [
    "# 3. Início das Análises"
   ]
  },
  {
   "cell_type": "markdown",
   "metadata": {},
   "source": [
    "A primeira etapa da Análise exploratório é entender os dados apresentados na tabela. Para isso, será feita a visualização inicial da base."
   ]
  },
  {
   "cell_type": "code",
   "execution_count": null,
   "metadata": {},
   "outputs": [],
   "source": [
    "database.head()"
   ]
  },
  {
   "cell_type": "code",
   "execution_count": null,
   "metadata": {},
   "outputs": [],
   "source": [
    "database.dtypes"
   ]
  },
  {
   "cell_type": "code",
   "execution_count": null,
   "metadata": {},
   "outputs": [],
   "source": [
    "for column in database:\n",
    "    print(f'{column}: {database[column].unique()}')"
   ]
  }
 ],
 "metadata": {
  "kernelspec": {
   "display_name": "Python 3",
   "language": "python",
   "name": "python3"
  },
  "language_info": {
   "codemirror_mode": {
    "name": "ipython",
    "version": 3
   },
   "file_extension": ".py",
   "mimetype": "text/x-python",
   "name": "python",
   "nbconvert_exporter": "python",
   "pygments_lexer": "ipython3",
   "version": "3.12.2"
  }
 },
 "nbformat": 4,
 "nbformat_minor": 2
}
