{
 "cells": [
  {
   "cell_type": "markdown",
   "metadata": {
    "id": "Jo4AIfhV_Jt-"
   },
   "source": [
    "# Importação das Bibliotecas\n",
    "\n",
    "Aqui estão sendo importadas as bibliotecas necessárias. `pandas` (apelidado de `pd`) é o que vai ajudar na manipulação dos dados, e `files` do `google.colab` permite que a gente faça upload dos arquivos direto no Colab.\n"
   ]
  },
  {
   "cell_type": "code",
   "execution_count": null,
   "metadata": {
    "id": "I2a_xJtm02dl"
   },
   "outputs": [],
   "source": [
    "%pip install pandas\n",
    "import pandas as pd\n"
   ]
  },
  {
   "cell_type": "markdown",
   "metadata": {
    "id": "g9PtowyC__Z2"
   },
   "source": [
    "# Carregando e exibindo a tabela\n",
    "\n",
    "Aqui, a gente está puxando o arquivo CSV da tabela e guardando ele no DataFrame `df` usando `pd.read_csv`. Depois, ao digitar só `df`, o Colab já imprime a tabela completa pra gente visualizar.\n"
   ]
  },
  {
   "cell_type": "code",
   "execution_count": null,
   "metadata": {
    "colab": {
     "base_uri": "https://localhost:8080/",
     "height": 756
    },
    "collapsed": true,
    "id": "StYhw_XG7q2Q",
    "outputId": "e63da760-7daf-4c9a-a0a9-db08541c3f15"
   },
   "outputs": [],
   "source": [
    "df = pd.read_csv('TABELA_BIG_DATA_REQ_MAT_202410111115.csv')\n",
    "df"
   ]
  },
  {
   "cell_type": "markdown",
   "metadata": {
    "id": "rv2j4ELbAwJR"
   },
   "source": [
    "# Analisando informações da tabela (tipos e valores não nulos)\n",
    "\n",
    "Nesta célula, utilizamos `df.info()` para obter uma visão geral da tabela. O comando mostra o número de entradas, os nomes das colunas, quantos valores não nulos cada coluna possui, e os tipos de dados (Dtype) de cada coluna. Essas informações ajudam a identificar colunas com dados ausentes e entender o tipo de cada dado, o que é essencial para o processo de limpeza.\n"
   ]
  },
  {
   "cell_type": "code",
   "execution_count": null,
   "metadata": {
    "colab": {
     "base_uri": "https://localhost:8080/"
    },
    "id": "S8ZP6zB_7-z7",
    "outputId": "f3399d90-fecf-4e89-ea70-b97477c1dc87"
   },
   "outputs": [],
   "source": [
    "df.info()"
   ]
  },
  {
   "cell_type": "markdown",
   "metadata": {
    "id": "U9XSE_ZId9fl"
   },
   "source": [
    "# Verificando e removendo linhas duplicadas\n",
    "\n",
    "Nesta célula, usamos `df.duplicated()` para identificar quaisquer linhas duplicadas na tabela e armazená-las na variável `duplicados`. Em seguida, imprimimos essas linhas para verificar se há duplicatas que precisam ser removidas. No caso desta tabela, a saída indica que não foram encontradas linhas duplicadas (`Empty DataFrame`), então nenhuma ação adicional é necessária.\n"
   ]
  },
  {
   "cell_type": "code",
   "execution_count": null,
   "metadata": {
    "colab": {
     "base_uri": "https://localhost:8080/"
    },
    "id": "X1_x8i-KgbfE",
    "outputId": "dbb22a50-fad0-40b1-d7f1-42b04f9c9052"
   },
   "outputs": [],
   "source": [
    "duplicados = df[df.duplicated()]\n",
    "\n",
    "print(\"Linhas duplicadas:\")\n",
    "print(duplicados)"
   ]
  },
  {
   "cell_type": "markdown",
   "metadata": {
    "id": "LQlnN_xTeEAl"
   },
   "source": [
    "# Padronizando valores nas colunas numéricas e não numéricas\n",
    "\n",
    "Aqui, identificamos todas as colunas numéricas da tabela usando `select_dtypes` com os tipos `int64` e `float64`, e armazenamos os nomes dessas colunas em `colunas_numericas`. Para lidar com valores ausentes, substituímos os valores nulos nas colunas numéricas por `-1`, o que facilita a análise posterior. Em seguida, aplicamos `fillna('-1')` a todo o DataFrame para padronizar os valores ausentes nas colunas não numéricas com `'-1'`, criando uma uniformidade nos dados.\n"
   ]
  },
  {
   "cell_type": "code",
   "execution_count": null,
   "metadata": {
    "collapsed": true,
    "id": "_2E9kI_mK05g"
   },
   "outputs": [],
   "source": [
    "colunas_numericas = df.select_dtypes(include=['int64', 'float64']).columns\n",
    "\n",
    "df[colunas_numericas] = df[colunas_numericas].fillna(-1)\n",
    "df = df.fillna('-1')"
   ]
  },
  {
   "cell_type": "markdown",
   "metadata": {
    "id": "bDRN7W3TeHVC"
   },
   "source": [
    "# Exibindo a tabela após padronização dos valores\n",
    "\n",
    "Exibindo `df` para ver a tabela após a substituição dos valores nulos por `-1`.\n"
   ]
  },
  {
   "cell_type": "code",
   "execution_count": null,
   "metadata": {
    "colab": {
     "base_uri": "https://localhost:8080/",
     "height": 721
    },
    "id": "vX9-i3JTgwSJ",
    "outputId": "117930f8-f06f-480c-ca57-7106fc10fca3"
   },
   "outputs": [],
   "source": [
    "df"
   ]
  },
  {
   "cell_type": "markdown",
   "metadata": {
    "id": "78sG1E6heNro"
   },
   "source": [
    "# Convertendo coluna para string\n",
    "\n",
    "Alteramos o tipo da coluna `MOTCANCCODESTR` para string usando `.astype(str)`, o que ajuda a garantir consistência no tipo de dado dessa coluna.\n"
   ]
  },
  {
   "cell_type": "code",
   "execution_count": null,
   "metadata": {
    "id": "14OoMcwM7sB4"
   },
   "outputs": [],
   "source": [
    "df['MOTCANCCODESTR'] = df['MOTCANCCODESTR'].astype(str)"
   ]
  },
  {
   "cell_type": "markdown",
   "metadata": {
    "id": "KtQFnTKXfG3H"
   },
   "source": [
    "# Convertendo colunas de datas para Unix Time\n",
    "Este código converte as colunas de data especificadas (`DT_CARGA`, `REQMATDATA`, `ITREQMATATENDDATA`) para Unix Time (segundos desde 01/01/1970), se elas existirem no DataFrame `df`.\n",
    "\n",
    "1. Para cada coluna, o código verifica se ela está no DataFrame.\n",
    "2. Caso o tipo seja `int64` ou `object`, tenta convertê-la para o formato datetime com `pd.to_datetime`.\n",
    "3. Se a conversão falhar, exibe um aviso e ignora a coluna.\n",
    "4. Valores inválidos (NaT) são preenchidos com `-1`.\n",
    "5. A coluna é convertida para Unix Time e todos os NaTs são substituídos por `-1`.\n"
   ]
  },
  {
   "cell_type": "code",
   "execution_count": null,
   "metadata": {
    "colab": {
     "base_uri": "https://localhost:8080/"
    },
    "id": "gZhT5DR3ELLA",
    "outputId": "31536e04-17b5-4ab2-cc8e-15c88373f3cb"
   },
   "outputs": [],
   "source": [
    "colunas_datas = ['DT_CARGA', 'REQMATDATA', 'ITREQMATATENDDATA']\n",
    "\n",
    "for col in colunas_datas:\n",
    "    if col in df.columns:\n",
    "        print(f\"Convertendo a coluna '{col}' para Unix time (alterando apenas o dtype)...\")\n",
    "\n",
    "        if df[col].dtype == 'int64' or 'object':\n",
    "            df[col] = pd.to_datetime(df[col], errors='coerce')\n",
    "\n",
    "        if not pd.api.types.is_datetime64_any_dtype(df[col]):\n",
    "            print(f\"Atenção: A coluna '{col}' não pôde ser convertida para datetime.\")\n",
    "            continue\n",
    "\n",
    "        num_invalid = df[col].isna().sum()\n",
    "        if num_invalid > 0:\n",
    "            print(f\"Atenção: A coluna '{col}' possui {num_invalid} valores inválidos que serão preenchidos com -1.\")\n",
    "\n",
    "        df[col] = df[col].values.astype('int64') // 10**9\n",
    "\n",
    "        df[col] = df[col].fillna(-1).astype(int)\n",
    "    else:\n",
    "        print(f\"A coluna '{col}' não existe no DataFrame.\")"
   ]
  },
  {
   "cell_type": "markdown",
   "metadata": {
    "id": "Sl9P4x6qfO3d"
   },
   "source": [
    "# Exibindo a tabela após a conversão de datas\n",
    "\n",
    "Após a conversão das colunas de data para Unix Time e tratamento dos valores ausentes, exibimos `df` para visualizar o DataFrame atualizado e verificar as mudanças feitas.\n"
   ]
  },
  {
   "cell_type": "code",
   "execution_count": null,
   "metadata": {
    "colab": {
     "base_uri": "https://localhost:8080/",
     "height": 721
    },
    "id": "7RWk-x_fE2Xg",
    "outputId": "ce2a4a61-1960-4769-af75-7d493fe7d1da"
   },
   "outputs": [],
   "source": [
    "df"
   ]
  },
  {
   "cell_type": "code",
   "execution_count": null,
   "metadata": {},
   "outputs": [],
   "source": [
    "df.info()\n"
   ]
  },
  {
   "cell_type": "code",
   "execution_count": null,
   "metadata": {},
   "outputs": [],
   "source": [
    "pd.set_option('display.max_columns', None)\n",
    "df.head()"
   ]
  },
  {
   "cell_type": "markdown",
   "metadata": {
    "id": "9reTC78leZ2q"
   },
   "source": [
    "# Salvando o DataFrame em formato Parquet e fazendo download\n",
    "\n",
    "Primeiro, instalamos a biblioteca `pyarrow`, para caso não esteja instalada, para suportar a exportação do DataFrame em formato Parquet, que é eficiente para armazenamento e leitura de dados. Em seguida, usamos `df.to_parquet()` para salvar o DataFrame limpo como `dados_limpos.parquet`. Para facilitar o download, importamos `files` do `google.colab` e usamos `files.download()` para disponibilizar o arquivo no Colab.\n"
   ]
  },
  {
   "cell_type": "code",
   "execution_count": null,
   "metadata": {
    "colab": {
     "base_uri": "https://localhost:8080/",
     "height": 72
    },
    "id": "cV9eEUJEt1uY",
    "outputId": "24b6b96e-db8b-45b1-efa1-b413c1a518ac"
   },
   "outputs": [],
   "source": [
    "%pip install pyarrow\n",
    "\n",
    "df.to_parquet('dados_limpos.parquet', engine='pyarrow')\n",
    "\n",
    "from google.colab import files\n",
    "files.download('dados_limpos.parquet')"
   ]
  }
 ],
 "metadata": {
  "colab": {
   "provenance": []
  },
  "kernelspec": {
   "display_name": "Python 3",
   "name": "python3"
  },
  "language_info": {
   "codemirror_mode": {
    "name": "ipython",
    "version": 3
   },
   "file_extension": ".py",
   "mimetype": "text/x-python",
   "name": "python",
   "nbconvert_exporter": "python",
   "pygments_lexer": "ipython3",
   "version": "3.12.2"
  }
 },
 "nbformat": 4,
 "nbformat_minor": 0
}
