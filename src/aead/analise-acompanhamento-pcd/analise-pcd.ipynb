{
 "cells": [
  {
   "cell_type": "markdown",
   "metadata": {},
   "source": [
    "# Exploração da Tabela Acompanhamento PCD (1)\n",
    "Este código Python foi feito para explorar a tabela *Acompanhamento PCD* para facilitar o entendimento de seus dados\n"
   ]
  },
  {
   "cell_type": "code",
   "execution_count": null,
   "metadata": {},
   "outputs": [],
   "source": [
    "!pip install openpyxl"
   ]
  },
  {
   "cell_type": "markdown",
   "metadata": {},
   "source": [
    "# Importação das bobliotecas\n",
    "No código a seguir, vemos as bibliotecas utilizadas para a exploração de dados. O `pandas` é utilizado para leitura e manipulação dos dados, enquanto `matplotlib` e `seaborn` são bibliotecas para visualização. Abaixo está o bloco de código com a importação dessas bibliotecas.\n"
   ]
  },
  {
   "cell_type": "code",
   "execution_count": null,
   "metadata": {},
   "outputs": [],
   "source": [
    "import pandas as pd\n",
    "import numpy as np\n",
    "import matplotlib.pyplot as plt\n",
    "import seaborn as sns"
   ]
  },
  {
   "cell_type": "markdown",
   "metadata": {},
   "source": [
    "# Carregamento do Arquivo\n",
    "A primeira etapa consiste em carregar o arquivo Excel que contém os dados. O `pd.read_excel` é usado para ler os dados do arquivo 'Acompanhamento PCD (1).xlsx', que deve estar no mesmo diretório do script.\n"
   ]
  },
  {
   "cell_type": "code",
   "execution_count": null,
   "metadata": {},
   "outputs": [],
   "source": [
    "# Carregar o arquivo\n",
    "dataset = pd.read_excel('Acompanhamento PCD (1).xlsx')"
   ]
  },
  {
   "cell_type": "markdown",
   "metadata": {},
   "source": [
    "# Visualização dos dados\n",
    "Após o carregamento do dataset, é importante realizar uma visualização inicial. O método `head()` mostra as primeiras linhas do DataFrame, permitindo uma primeira impressão sobre a estrutura e o conteúdo dos dados.\n"
   ]
  },
  {
   "cell_type": "code",
   "execution_count": null,
   "metadata": {},
   "outputs": [],
   "source": [
    "dataset.head()"
   ]
  },
  {
   "cell_type": "markdown",
   "metadata": {},
   "source": [
    "# Estrutura do dataset\n",
    "A função `shape` retorna as dimensões do DataFrame, indicando o número de linhas e colunas. Isso ajuda a entender a quantidade de dados disponíveis para análise.\n"
   ]
  },
  {
   "cell_type": "code",
   "execution_count": null,
   "metadata": {},
   "outputs": [],
   "source": [
    "dataset.shape"
   ]
  },
  {
   "cell_type": "markdown",
   "metadata": {},
   "source": [
    "# Informações do dataset\n",
    "O método `info()` fornece uma visão geral das colunas do DataFrame, tipos de dados e a presença de valores nulos. Essa informação é important para identificar colunas que podem precisar de tratamento.\n"
   ]
  },
  {
   "cell_type": "code",
   "execution_count": null,
   "metadata": {},
   "outputs": [],
   "source": [
    "dataset.info()"
   ]
  },
  {
   "cell_type": "markdown",
   "metadata": {},
   "source": [
    "# Análise de valores nulos\n",
    "A análise da quantidade de valores nulos em cada coluna é essencial. Isso pode ajudar a decidir se algumas colunas devem ser descartadas ou se os dados devem ser tratados de alguma forma.\n"
   ]
  },
  {
   "cell_type": "code",
   "execution_count": null,
   "metadata": {},
   "outputs": [],
   "source": [
    "dataset.isnull().sum()"
   ]
  },
  {
   "cell_type": "markdown",
   "metadata": {},
   "source": [
    "# Vizualização de valores nulos\n",
    "A plotagem de um mapa de calor utilizando `seaborn` é útil para visualizar a presença de valores nulos no DataFrame. As áreas em que há dados ausentes serão destacadas, permitindo uma rápida identificação."
   ]
  },
  {
   "cell_type": "code",
   "execution_count": null,
   "metadata": {},
   "outputs": [],
   "source": [
    "import seaborn as sns\n",
    "import matplotlib.pyplot as plt\n",
    "\n",
    "plt.figure(figsize=(10, 6))\n",
    "sns.heatmap(dataset.isnull(), cbar=False, cmap=\"viridis\")\n",
    "plt.show()"
   ]
  },
  {
   "cell_type": "markdown",
   "metadata": {},
   "source": [
    "# Estatísticas descritivas\n",
    "O método `describe()` gera estatísticas descritivas para as colunas numéricas do DataFrame, como contagem, média, desvio padrão, valores mínimo e máximo, e os quartis. Essa análise ajuda a entender a distribuição dos dados.\n"
   ]
  },
  {
   "cell_type": "code",
   "execution_count": null,
   "metadata": {},
   "outputs": [],
   "source": [
    "dataset.describe()"
   ]
  },
  {
   "cell_type": "markdown",
   "metadata": {},
   "source": [
    "# Plotagem de boxplots\n",
    "\n",
    "A plotagem de boxplots permite visualizar a distribuição e identificar possíveis outliers nas variáveis numéricas do dataset. O gráfico ajuda a entender a dispersão dos dados e a detectar anomalias.\n"
   ]
  },
  {
   "cell_type": "code",
   "execution_count": null,
   "metadata": {},
   "outputs": [],
   "source": [
    "sns.boxplot(data=dataset)\n",
    "plt.xticks(rotation=90)\n",
    "plt.show()"
   ]
  }
 ],
 "metadata": {
  "kernelspec": {
   "display_name": "Python 3",
   "language": "python",
   "name": "python3"
  },
  "language_info": {
   "codemirror_mode": {
    "name": "ipython",
    "version": 3
   },
   "file_extension": ".py",
   "mimetype": "text/x-python",
   "name": "python",
   "nbconvert_exporter": "python",
   "pygments_lexer": "ipython3",
   "version": "3.11.9"
  }
 },
 "nbformat": 4,
 "nbformat_minor": 2
}
