{
  "cells": [
    {
      "cell_type": "markdown",
      "id": "e7eae432-9a32-4628-b907-07ac844a78dc",
      "metadata": {
        "id": "e7eae432-9a32-4628-b907-07ac844a78dc"
      },
      "source": [
        "# 1. Instalação de Dependências"
      ]
    },
    {
      "cell_type": "code",
      "execution_count": null,
      "id": "87a1abea-ae87-482e-9dad-4c6ef7e15724",
      "metadata": {
        "id": "87a1abea-ae87-482e-9dad-4c6ef7e15724"
      },
      "outputs": [],
      "source": [
        "import pandas as pd\n",
        "import openpyxl\n",
        "import matplotlib.pyplot as plt\n",
        "import seaborn as sns\n",
        "from sklearn.preprocessing import LabelEncoder\n",
        "from sklearn.preprocessing import StandardScaler\n",
        "from sklearn.decomposition import PCA\n",
        "import pyarrow.parquet as pq"
      ]
    },
    {
      "cell_type": "markdown",
      "id": "a301c371-dfa3-481c-a33f-09d90d8f3988",
      "metadata": {
        "id": "a301c371-dfa3-481c-a33f-09d90d8f3988"
      },
      "source": [
        "# 2. Exploração inicial"
      ]
    },
    {
      "cell_type": "code",
      "execution_count": null,
      "id": "27df07c3-74d9-4bf7-9a6f-c54e659399eb",
      "metadata": {
        "colab": {
          "base_uri": "https://localhost:8080/",
          "height": 310
        },
        "id": "27df07c3-74d9-4bf7-9a6f-c54e659399eb",
        "outputId": "97c04241-d32d-4a7c-cb21-7edf0ce72917"
      },
      "outputs": [],
      "source": [
        "df = pd.read_excel('./consumo_materiais2019.xlsx')\n",
        "\n",
        "df.head()"
      ]
    },
    {
      "cell_type": "code",
      "execution_count": null,
      "id": "310046d9-253c-40e7-a7e8-86accd877840",
      "metadata": {
        "colab": {
          "base_uri": "https://localhost:8080/"
        },
        "id": "310046d9-253c-40e7-a7e8-86accd877840",
        "outputId": "d1c37a28-2af2-4ff7-99c9-d702b96566f6"
      },
      "outputs": [],
      "source": [
        "df.info()"
      ]
    },
    {
      "cell_type": "code",
      "execution_count": null,
      "id": "d2417fe3-b2b4-4ea6-8d84-ea4ac01a2eb0",
      "metadata": {
        "colab": {
          "base_uri": "https://localhost:8080/",
          "height": 300
        },
        "id": "d2417fe3-b2b4-4ea6-8d84-ea4ac01a2eb0",
        "outputId": "6113999a-4a0a-45dd-d8e1-5c81789c8fd0"
      },
      "outputs": [],
      "source": [
        "df.describe()"
      ]
    },
    {
      "cell_type": "code",
      "execution_count": null,
      "id": "12ef4e94-5392-439a-bdb6-c88750972c07",
      "metadata": {
        "colab": {
          "base_uri": "https://localhost:8080/"
        },
        "id": "12ef4e94-5392-439a-bdb6-c88750972c07",
        "outputId": "2b1009cc-9505-476d-c15e-83f49497d3f9"
      },
      "outputs": [],
      "source": [
        "for coluna in df.columns:\n",
        "    print(f\"\\n{coluna}: {df[coluna].nunique()} valores únicos\")"
      ]
    },
    {
      "cell_type": "markdown",
      "id": "a9592d69-d2b4-43db-bf78-4c1425210931",
      "metadata": {
        "id": "a9592d69-d2b4-43db-bf78-4c1425210931"
      },
      "source": [
        "# 3. Exploração avançada"
      ]
    },
    {
      "cell_type": "markdown",
      "id": "3ccb149c-360a-4e1b-ae8d-b688e4048530",
      "metadata": {
        "id": "3ccb149c-360a-4e1b-ae8d-b688e4048530"
      },
      "source": [
        "## 3.1 Visualisar itens mais frequentes"
      ]
    },
    {
      "cell_type": "code",
      "execution_count": null,
      "id": "e86bdd20-fec0-4a51-bb37-2a1b3b3685ef",
      "metadata": {
        "colab": {
          "base_uri": "https://localhost:8080/"
        },
        "id": "e86bdd20-fec0-4a51-bb37-2a1b3b3685ef",
        "outputId": "2aae4d8e-181a-4712-a34b-91ebad86103c"
      },
      "outputs": [],
      "source": [
        "produtos_mais_frequentes = df['descricao'].value_counts()\n",
        "print(produtos_mais_frequentes)"
      ]
    },
    {
      "cell_type": "code",
      "execution_count": null,
      "id": "42905fe2-7c5f-4fc5-a44a-609ec6f75ef8",
      "metadata": {
        "colab": {
          "base_uri": "https://localhost:8080/",
          "height": 368
        },
        "id": "42905fe2-7c5f-4fc5-a44a-609ec6f75ef8",
        "outputId": "2c90e9d8-59c1-4931-9154-b40c1edad726"
      },
      "outputs": [],
      "source": [
        "top_10_produtos = produtos_mais_frequentes.head(10)\n",
        "\n",
        "top_10_produtos.plot(kind='barh', figsize=(10, 5))\n",
        "plt.title('10 Produtos mais frequentes')\n",
        "plt.xlabel('Quantidade')\n",
        "plt.ylabel('Produto')\n",
        "plt.show()"
      ]
    },
    {
      "cell_type": "markdown",
      "id": "ecd641bb-56b4-4aaf-bdc7-3dbe05226695",
      "metadata": {
        "id": "ecd641bb-56b4-4aaf-bdc7-3dbe05226695"
      },
      "source": [
        "## 3.2 Quantidade total de cada produto"
      ]
    },
    {
      "cell_type": "code",
      "execution_count": null,
      "id": "1eb7b5dd-da7c-453e-b60e-71c4a1f0a125",
      "metadata": {
        "colab": {
          "base_uri": "https://localhost:8080/"
        },
        "id": "1eb7b5dd-da7c-453e-b60e-71c4a1f0a125",
        "outputId": "11783a94-dfb3-416a-9444-aec575934e2a"
      },
      "outputs": [],
      "source": [
        "quantidade_total = df['qtd-saida'].sum()\n",
        "print(f'Quantidade total de produtos comprados: {quantidade_total}')"
      ]
    },
    {
      "cell_type": "code",
      "execution_count": null,
      "id": "c76a9192-4b2b-4280-9f21-cba42a9d8958",
      "metadata": {
        "colab": {
          "base_uri": "https://localhost:8080/",
          "height": 487
        },
        "id": "c76a9192-4b2b-4280-9f21-cba42a9d8958",
        "outputId": "a5871bef-d5e5-441d-8d7f-d7181d5c0602"
      },
      "outputs": [],
      "source": [
        "df.groupby('data-mov')['qtd-saida'].sum().plot(kind='line', figsize=(10, 5))\n",
        "plt.title('Quantidade de produtos por data')\n",
        "plt.xlabel('Data')\n",
        "plt.ylabel('Quantidade')\n",
        "plt.show()"
      ]
    },
    {
      "cell_type": "markdown",
      "id": "5c0e48e3-f45a-4e75-b194-01789100f96b",
      "metadata": {
        "id": "5c0e48e3-f45a-4e75-b194-01789100f96b"
      },
      "source": [
        "## 3.3 Requisições mais frequentes"
      ]
    },
    {
      "cell_type": "code",
      "execution_count": null,
      "id": "a9c9e0ef-98f6-459e-b3cb-a4743088c830",
      "metadata": {
        "colab": {
          "base_uri": "https://localhost:8080/"
        },
        "id": "a9c9e0ef-98f6-459e-b3cb-a4743088c830",
        "outputId": "e8f3e581-8aaf-4f03-873d-d3f90f7746ad"
      },
      "outputs": [],
      "source": [
        "historicos_mais_frequentes = df['historico'].value_counts()\n",
        "print(historicos_mais_frequentes)"
      ]
    },
    {
      "cell_type": "code",
      "execution_count": null,
      "id": "fee127f8-66f6-4064-8472-a8892b28077b",
      "metadata": {
        "colab": {
          "base_uri": "https://localhost:8080/",
          "height": 675
        },
        "id": "fee127f8-66f6-4064-8472-a8892b28077b",
        "outputId": "40e73e16-d9fc-4559-91f8-03ff96fb7f22"
      },
      "outputs": [],
      "source": [
        "historicos_mais_frequentes.plot(kind='pie', autopct='%1.1f%%', figsize=(8, 8))\n",
        "plt.title('Tipos de requisição mais frequentes')\n",
        "plt.show()"
      ]
    },
    {
      "cell_type": "markdown",
      "id": "3e11004b-4119-4c50-a4e5-c8d97941943f",
      "metadata": {
        "id": "3e11004b-4119-4c50-a4e5-c8d97941943f"
      },
      "source": [
        "## 3.4 Correlação entre variáveis"
      ]
    },
    {
      "cell_type": "code",
      "execution_count": null,
      "id": "79317c6d-694f-4b6f-abd4-cdbd3aef9619",
      "metadata": {
        "colab": {
          "base_uri": "https://localhost:8080/",
          "height": 545
        },
        "id": "79317c6d-694f-4b6f-abd4-cdbd3aef9619",
        "outputId": "94445fd5-7f30-41ab-e5c8-505d699efcfd"
      },
      "outputs": [],
      "source": [
        "df_numeric = df[['cod-reduzido-produto', 'documento', 'qtd-saida']]\n",
        "correlation_matrix = df_numeric.corr()\n",
        "\n",
        "plt.figure(figsize=(8, 6))\n",
        "\n",
        "sns.heatmap(correlation_matrix, annot=True, cmap=\"YlGnBu\", fmt=\".2f\")\n",
        "plt.title(\"Mapa de Calor da Correlação entre Variáveis Numéricas\")\n",
        "plt.show()"
      ]
    },
    {
      "cell_type": "markdown",
      "id": "c92a8ba1-a0bf-49a8-bd7b-bf6c4a7234ed",
      "metadata": {
        "id": "c92a8ba1-a0bf-49a8-bd7b-bf6c4a7234ed"
      },
      "source": [
        "## 3.5 Relação de consumo de materiais por período"
      ]
    },
    {
      "cell_type": "code",
      "execution_count": null,
      "id": "a5a5b908-a449-4b9b-937f-4899926d5cac",
      "metadata": {
        "colab": {
          "base_uri": "https://localhost:8080/",
          "height": 569
        },
        "id": "a5a5b908-a449-4b9b-937f-4899926d5cac",
        "outputId": "50eb33b6-8c6d-49e6-83f3-3f12f8ec00a5"
      },
      "outputs": [],
      "source": [
        "df['data-mov'] = pd.to_datetime(df['data-mov'], errors='coerce', dayfirst=True)\n",
        "df = df.dropna(subset=['data-mov'])\n",
        "\n",
        "df['ano_mes'] = df['data-mov'].dt.to_period('M')\n",
        "\n",
        "consumo_por_periodo = df.groupby('ano_mes')['qtd-saida'].sum().reset_index()\n",
        "\n",
        "consumo_por_periodo['ano_mes'] = consumo_por_periodo['ano_mes'].dt.to_timestamp()\n",
        "\n",
        "plt.figure(figsize=(12, 6))\n",
        "plt.plot(consumo_por_periodo['ano_mes'], consumo_por_periodo['qtd-saida'], marker='o', color='b')\n",
        "plt.xlabel('Período (Ano e Mês)')\n",
        "plt.ylabel('Quantidade Total de Saída')\n",
        "plt.title('Consumo de Materiais por Período')\n",
        "plt.xticks(rotation=45)\n",
        "plt.grid(True)\n",
        "plt.tight_layout()\n",
        "plt.show()"
      ]
    },
    {
      "cell_type": "markdown",
      "id": "65247865-f908-45df-8ef7-b65c054e9cbc",
      "metadata": {
        "id": "65247865-f908-45df-8ef7-b65c054e9cbc"
      },
      "source": [
        "## 3.6 Relação entre tipo de pedido e data"
      ]
    },
    {
      "cell_type": "code",
      "execution_count": null,
      "id": "09ae24ac-2f78-4269-9bc3-26f3b55605dc",
      "metadata": {
        "colab": {
          "base_uri": "https://localhost:8080/",
          "height": 587
        },
        "id": "09ae24ac-2f78-4269-9bc3-26f3b55605dc",
        "outputId": "fa8530df-b447-4b8b-e344-49dbdc010a00"
      },
      "outputs": [],
      "source": [
        "df['data-mov'] = pd.to_datetime(df['data-mov'], errors='coerce', dayfirst=True)\n",
        "\n",
        "df = df.dropna(subset=['data-mov'])\n",
        "\n",
        "requisicoes_por_data = df.groupby(['data-mov', 'historico']).size().unstack(fill_value=0)\n",
        "\n",
        "plt.figure(figsize=(12, 6))\n",
        "requisicoes_por_data.plot(kind='line', marker='o', figsize=(14, 7))\n",
        "plt.xlabel('Data')\n",
        "plt.ylabel('Quantidade de Requisições')\n",
        "plt.title('Relação entre Tipo de Requisição e Data')\n",
        "plt.xticks(rotation=45)\n",
        "plt.legend(title='Tipo de Requisição')\n",
        "plt.tight_layout()\n",
        "plt.show()"
      ]
    },
    {
      "cell_type": "markdown",
      "id": "2177353e-23ae-4495-8153-d9edc4510df9",
      "metadata": {
        "id": "2177353e-23ae-4495-8153-d9edc4510df9"
      },
      "source": [
        "# 4. Manipulação dos dados"
      ]
    },
    {
      "cell_type": "markdown",
      "id": "b9bb0fcd-2a63-432f-b074-e248a73b0ef7",
      "metadata": {
        "id": "b9bb0fcd-2a63-432f-b074-e248a73b0ef7"
      },
      "source": [
        "## 4.1 Conversão de variáveis categóricas em numéricas"
      ]
    },
    {
      "cell_type": "code",
      "execution_count": null,
      "id": "a19ba5f9-f4ed-49f2-ad12-d5c4647f3f10",
      "metadata": {
        "colab": {
          "base_uri": "https://localhost:8080/"
        },
        "id": "a19ba5f9-f4ed-49f2-ad12-d5c4647f3f10",
        "outputId": "d1aab44d-c739-44f9-8242-7f852fb77b8a"
      },
      "outputs": [],
      "source": [
        "df_encoded = df.copy()\n",
        "\n",
        "label_encoder = LabelEncoder()\n",
        "for column in ['cod-estruturado-produto', 'descricao', 'un-medida', 'historico']:\n",
        "    df_encoded[column] = label_encoder.fit_transform(df_encoded[column])\n",
        "\n",
        "print(df_encoded.head())"
      ]
    },
    {
      "cell_type": "markdown",
      "id": "f111074b-1acb-4c77-9baa-b573fbd40a53",
      "metadata": {
        "id": "f111074b-1acb-4c77-9baa-b573fbd40a53"
      },
      "source": [
        "## 4.2 Remoção de outliers"
      ]
    },
    {
      "cell_type": "code",
      "execution_count": null,
      "id": "80ab698b-0ca2-40fd-8973-4a7edfc6f4ba",
      "metadata": {
        "colab": {
          "base_uri": "https://localhost:8080/"
        },
        "id": "80ab698b-0ca2-40fd-8973-4a7edfc6f4ba",
        "outputId": "c2948b12-0c07-421c-8ec0-cb75471ac21f"
      },
      "outputs": [],
      "source": [
        "df_no_outliers = df.copy()\n",
        "\n",
        "numerical_cols = ['cod-reduzido-produto', 'documento', 'qtd-saida']\n",
        "\n",
        "for col in numerical_cols:\n",
        "    Q1 = df_no_outliers[col].quantile(0.25)\n",
        "    Q3 = df_no_outliers[col].quantile(0.75)\n",
        "    IQR = Q3 - Q1\n",
        "    lower_bound = Q1 - 1.5 * IQR\n",
        "    upper_bound = Q3 + 1.5 * IQR\n",
        "\n",
        "    df_no_outliers = df_no_outliers[(df_no_outliers[col] >= lower_bound) & (df_no_outliers[col] <= upper_bound)]\n",
        "\n",
        "print(df_no_outliers.head())\n",
        "print(f\"Número de linhas antes da remoção de outliers: {df.shape[0]}\")\n",
        "print(f\"Número de linhas após a remoção de outliers: {df_no_outliers.shape[0]}\")"
      ]
    },
    {
      "cell_type": "markdown",
      "id": "2d63c9f1-66b1-4caf-8de0-b34f535f890b",
      "metadata": {
        "id": "2d63c9f1-66b1-4caf-8de0-b34f535f890b"
      },
      "source": [
        "## 4.3 Padronização e PCA"
      ]
    },
    {
      "cell_type": "code",
      "execution_count": null,
      "id": "daa32cec-8322-4aff-ab7f-ff5fe733b881",
      "metadata": {
        "colab": {
          "base_uri": "https://localhost:8080/"
        },
        "id": "daa32cec-8322-4aff-ab7f-ff5fe733b881",
        "outputId": "a485b1d8-570d-4577-dd54-7745b372e6db"
      },
      "outputs": [],
      "source": [
        "numerical_cols = ['cod-reduzido-produto', 'documento', 'qtd-saida']\n",
        "df_numeric = df_no_outliers[numerical_cols]\n",
        "\n",
        "scaler = StandardScaler()\n",
        "df_scaled = scaler.fit_transform(df_numeric)\n",
        "\n",
        "pca = PCA(n_components=2)  # Reduzir para 2 componentes principais, por exemplo\n",
        "principal_components = pca.fit_transform(df_scaled)\n",
        "\n",
        "df_pca = pd.DataFrame(data=principal_components, columns=['PC1', 'PC2'])\n",
        "\n",
        "df_final = pd.concat([df_no_outliers.reset_index(drop=True), df_pca], axis=1)\n",
        "\n",
        "explained_variance = pca.explained_variance_ratio_\n",
        "print(\"Variância explicada pelos componentes principais:\", explained_variance)\n",
        "\n",
        "print(df_final.head())"
      ]
    },
    {
      "cell_type": "markdown",
      "id": "aec19394-cab2-4fdf-8283-d7395e63c3ad",
      "metadata": {
        "id": "aec19394-cab2-4fdf-8283-d7395e63c3ad"
      },
      "source": [
        "## 4.4 Visualização dos dados padronizados"
      ]
    },
    {
      "cell_type": "code",
      "execution_count": null,
      "id": "d3514190-8c65-42b5-b7ff-91a466fdc9b9",
      "metadata": {
        "colab": {
          "base_uri": "https://localhost:8080/",
          "height": 564
        },
        "id": "d3514190-8c65-42b5-b7ff-91a466fdc9b9",
        "outputId": "114b1e64-3c04-4f3c-cc94-6ba9ac73bb5c"
      },
      "outputs": [],
      "source": [
        "plt.figure(figsize=(10, 6))\n",
        "plt.scatter(df_pca['PC1'], df_pca['PC2'], alpha=0.6, color='b')\n",
        "plt.xlabel('Componente Principal 1 (PC1)')\n",
        "plt.ylabel('Componente Principal 2 (PC2)')\n",
        "plt.title('Visualização dos Dados nos Principais Componentes')\n",
        "plt.grid(True)\n",
        "plt.show()"
      ]
    },
    {
      "cell_type": "markdown",
      "id": "ef2bba14-f5a4-44a2-bab2-25c9d5ac0a7a",
      "metadata": {
        "id": "ef2bba14-f5a4-44a2-bab2-25c9d5ac0a7a"
      },
      "source": [
        "# 5. Preparação do Datalake"
      ]
    },
    {
      "cell_type": "code",
      "execution_count": null,
      "id": "6f351f53-c660-48d8-8c59-1c27e3285e1e",
      "metadata": {
        "colab": {
          "base_uri": "https://localhost:8080/",
          "height": 36
        },
        "id": "6f351f53-c660-48d8-8c59-1c27e3285e1e",
        "outputId": "a9140bb1-bc24-4a91-990b-4d2fa98ea900"
      },
      "outputs": [],
      "source": [
        "parquet_path = './consumo_materiais2019.parquet'\n",
        "df.to_parquet(parquet_path, index=False)\n",
        "\n",
        "parquet_path"
      ]
    },
    {
      "cell_type": "markdown",
      "id": "d06b3be0",
      "metadata": {},
      "source": [
        "# 6. Hipóteses e Conclusão"
      ]
    },
    {
      "cell_type": "markdown",
      "id": "3b2ba483",
      "metadata": {},
      "source": [
        "A partir das análises realizadas no Notebook, foi possível extrair os seguintes insights:\n",
        "\n",
        "1. **Frequência de Manutenção:** A maioria das requisições de manutenção acontecem durante o final do ano. Isto pode indicar um maior fluxo de uso dos sistemas ferroviários, o que pode acarretar na necessidade de manutenções mais recorrentes.\n",
        "\n",
        "2. **Quantidade de itens adquiridos:** Foi possível perceber que os itens comprados com maior frequência são itens de escritório ou itens de higiene. O que mostra que, aparentemente, a empresa não tem gastos tão frequentes com equipamentos.\n",
        "\n",
        "3. **Entender o que são requisições de Operação:** O segundo tipo mais frequente de requisição é a de \"Operação\". No entanto, não existe nenhuma documentação sobre o que isso significa. Nesse sentido, será necessário investigar o significado desta requisição.\n",
        "\n",
        "4. **Frequência de compras:** A partir da análise de correlação de variáveis, foi possível identificar que os dois picos de compras de materiais acontecem em abril e novembro."
      ]
    },
    {
      "cell_type": "markdown",
      "id": "98d0d92d",
      "metadata": {},
      "source": []
    }
  ],
  "metadata": {
    "colab": {
      "provenance": [],
      "toc_visible": true
    },
    "kernelspec": {
      "display_name": "Python 3 (ipykernel)",
      "language": "python",
      "name": "python3"
    },
    "language_info": {
      "codemirror_mode": {
        "name": "ipython",
        "version": 3
      },
      "file_extension": ".py",
      "mimetype": "text/x-python",
      "name": "python",
      "nbconvert_exporter": "python",
      "pygments_lexer": "ipython3",
      "version": "3.13.0"
    }
  },
  "nbformat": 4,
  "nbformat_minor": 5
}
