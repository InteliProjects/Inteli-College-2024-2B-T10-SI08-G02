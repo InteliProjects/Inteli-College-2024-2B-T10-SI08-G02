{
 "cells": [
  {
   "cell_type": "markdown",
   "id": "8ea9386c-90b9-4daf-add7-5597d83bb999",
   "metadata": {},
   "source": [
    "# Exploração dos Dados da Tabela FT_OCORRENCIAS\n",
    "\n",
    "## Descrição\n",
    "Este notebook realiza uma análise exploratória da tabela **FT_OCORRENCIAS**, que contém informações sobre ocorrências registradas. O objetivo é visualizar as ocorrências ao longo do tempo, identificar a distribuição das descrições das ocorrências e entender melhor os dados contidos na tabela.\n",
    "\n",
    "## Estrutura do Notebook\n",
    "\n",
    "### 1. Importação de Bibliotecas\n",
    "As bibliotecas necessárias para a análise são importadas. Incluímos bibliotecas como `pandas`, `matplotlib`, e `seaborn` para manipulação de dados e visualização.\n",
    "\n",
    "### 2. Carregamento dos Dados\n",
    "Os dados da tabela **FT_OCORRENCIAS** são carregados em um DataFrame do pandas.\n",
    "\n",
    "\n",
    "### Análise Exploratória\n",
    "Os dados já carregados são analisados para retirar informações do dataset.\n"
   ]
  },
  {
   "cell_type": "code",
   "execution_count": null,
   "id": "34d18047-bfbe-462c-8d57-0d371f415751",
   "metadata": {},
   "outputs": [],
   "source": [
    "import pandas as pd\n",
    "import numpy as np\n",
    "import chardet\n",
    "import seaborn as sns\n",
    "import matplotlib.pyplot as plt\n",
    "from sklearn.preprocessing import LabelEncoder"
   ]
  },
  {
   "cell_type": "code",
   "execution_count": null,
   "id": "8aad8466-1f8f-4530-8f06-e7f215f34a02",
   "metadata": {},
   "outputs": [],
   "source": [
    "file_path = \"TABELA_BIG_DATA_FT_OCORRENCIAS.csv\"\n",
    "\n",
    "with open(file_path, 'rb') as f:\n",
    "    result = chardet.detect(f.read())\n",
    "    encoding = result['encoding']\n",
    "    print(encoding)"
   ]
  },
  {
   "cell_type": "code",
   "execution_count": null,
   "id": "d7121d29-6e89-4d37-b531-fd036995f7d4",
   "metadata": {},
   "outputs": [],
   "source": [
    "df = pd.read_csv(file_path, sep = ',', encoding = encoding, low_memory = False)\n",
    "display(df)"
   ]
  },
  {
   "cell_type": "markdown",
   "id": "51c0f7e9-4156-4935-9c7c-73f6bd6ec770",
   "metadata": {},
   "source": [
    "O `df.info()` serve para ter uma visão macro de como o banco de dados está distribuído, mostrando quantidade de linhas, colunas, dados nulos e o tipo de cada campo. Algo que é necessário confirmar é como são avaliados os dados nulos dentro do df.info().\n",
    "\n",
    "- Para achar a porcentagem foi feita uma conta simples de, utilizando o número de colunas com dados totalmente nulos (14 colunas) e dividindo pelo total de colunas (14 : 23 = 0,6086 ou 60,9%)"
   ]
  },
  {
   "cell_type": "code",
   "execution_count": null,
   "id": "3d4a855a-2876-4c7a-99e8-b1b92efb7e8b",
   "metadata": {},
   "outputs": [],
   "source": [
    "df.info()"
   ]
  },
  {
   "cell_type": "code",
   "execution_count": null,
   "id": "1f8e8cfa-abb3-4e61-bc12-4e0cfe262831",
   "metadata": {},
   "outputs": [],
   "source": [
    " df[df[\"Eventos Relacionados\"].notna()]"
   ]
  },
  {
   "cell_type": "code",
   "execution_count": null,
   "id": "712b12e6-2f2c-431e-bc8d-b9d64211d8be",
   "metadata": {},
   "outputs": [],
   "source": [
    " df[df[\"Tx Trem\"].notna()]"
   ]
  },
  {
   "cell_type": "markdown",
   "id": "7cbdceb6-480f-4e8f-9ac3-ffd26e7b859d",
   "metadata": {},
   "source": [
    "#### Retirando Colunas\n",
    "\n",
    "As duas seguintes colunas, pois estão com todas as linhas nulas. "
   ]
  },
  {
   "cell_type": "code",
   "execution_count": null,
   "id": "170bd373-e029-446a-a559-9c16cf45ab8a",
   "metadata": {},
   "outputs": [],
   "source": [
    "df = df.drop(columns=[\"Eventos Relacionados\", \"Tx Trem\", \"Tx Trem\", \"Total Ajustes\"], errors='ignore')\n",
    "print(df.columns)"
   ]
  },
  {
   "cell_type": "code",
   "execution_count": null,
   "id": "04eb06fe-4fe4-438d-9700-b403c35c90f6",
   "metadata": {},
   "outputs": [],
   "source": [
    "df[\"Classificacao Manchete\"]"
   ]
  },
  {
   "cell_type": "code",
   "execution_count": null,
   "id": "afd90869-c16b-48a5-9c63-79066ec8a4ea",
   "metadata": {},
   "outputs": [],
   "source": [
    "df[\"Manchete\"]"
   ]
  },
  {
   "cell_type": "code",
   "execution_count": null,
   "id": "be8537bd-8613-48b2-a9d6-07ed91a67fb8",
   "metadata": {},
   "outputs": [],
   "source": [
    "df[\"Trecho\"]"
   ]
  },
  {
   "cell_type": "code",
   "execution_count": null,
   "id": "c265526d-1cff-44cd-b701-2661e09d3dad",
   "metadata": {},
   "outputs": [],
   "source": [
    "nulos_por_coluna = df.isnull().sum()\n",
    "\n",
    "colunas_com_nulos = nulos_por_coluna[nulos_por_coluna > 0]\n",
    "display(colunas_com_nulos)"
   ]
  },
  {
   "cell_type": "markdown",
   "id": "4905d113-f280-4265-9889-f8d51c036d56",
   "metadata": {},
   "source": [
    "### Análise dos Tipos de Relevância\n",
    "\n",
    "Neste bloco de código, realiza-se uma contagem das ocorrências baseadas na coluna **Tipo de Relevância** e visualiza-se essa contagem em um gráfico de barras. Os gráficos demosntram uma grande diferença entre os tipos de relevância, mais de 90% dos registrados tem relevância -1.\n",
    "\n",
    "- É necessário entender os tipos de relevância com a CPTM para obter mais infomrações desse gráfico\n",
    "- O gráfico foi gerado utilizando a filtragem loc para plotar os outros valores diferentes de -1"
   ]
  },
  {
   "cell_type": "code",
   "execution_count": null,
   "id": "bc39e256-2879-457b-a469-3f67d9cef5d3",
   "metadata": {},
   "outputs": [],
   "source": [
    "total_relevancia = df[\"Id Tipo Relevancia\"].sum()\n",
    "print(\"Soma de Id Tipo Relevancia:\", total_relevancia)\n",
    "\n",
    "print(df[\"Id Tipo Relevancia\"].describe())\n"
   ]
  },
  {
   "cell_type": "code",
   "execution_count": null,
   "id": "026c3f02-f9a5-449f-a45f-f5222a51e31e",
   "metadata": {},
   "outputs": [],
   "source": [
    "valores_diferentes_de_menos_um = df.loc[(df[\"Id Tipo Relevancia\"] != -1) & (df[\"Id Tipo Relevancia\"].notna()), \"Id Tipo Relevancia\"]\n",
    "print(\"Valores diferentes de -1 dentro de Id Tipo Relevanciava\", valores_diferentes_de_menos_um)\n"
   ]
  },
  {
   "cell_type": "code",
   "execution_count": null,
   "id": "e995f253-117b-4168-8430-4da9d88f1e3c",
   "metadata": {},
   "outputs": [],
   "source": [
    "id_tipo_relevancia = df.loc[df[\"Id Tipo Relevancia\"] != -1, \"Id Tipo Relevancia\"]\n",
    "\n",
    "contagem_relevancia = id_tipo_relevancia.value_counts()\n",
    "\n",
    "plt.figure(figsize=(10, 6))\n",
    "sns.barplot(x=contagem_relevancia.index, y=contagem_relevancia.values, palette='viridis')\n",
    "plt.title('Distribuição de Id Tipo Relevancia')\n",
    "plt.xlabel('Id Tipo Relevancia')\n",
    "plt.ylabel('Contagem')\n",
    "plt.xticks(rotation=45)\n",
    "plt.show()"
   ]
  },
  {
   "cell_type": "code",
   "execution_count": null,
   "id": "ca2cace7-a474-47a4-9099-057124ee265e",
   "metadata": {},
   "outputs": [],
   "source": [
    "id_tipo_relevancia = df[\"Id Tipo Relevancia\"]\n",
    "\n",
    "contagem_relevancia = id_tipo_relevancia.value_counts()\n",
    "\n",
    "plt.figure(figsize=(10, 6))\n",
    "sns.barplot(x=contagem_relevancia.index, y=contagem_relevancia.values, palette='viridis')\n",
    "plt.title('Distribuição de Id Tipo Relevancia')\n",
    "plt.xlabel('Id Tipo Relevancia')\n",
    "plt.ylabel('Contagem')\n",
    "plt.xticks(rotation=45)\n",
    "plt.show()"
   ]
  },
  {
   "cell_type": "markdown",
   "id": "0dc2104a-4fe8-430d-8d4c-01264ccceec1",
   "metadata": {},
   "source": [
    "### Análise das Classificações de Manchete\n",
    "\n",
    "\n",
    "Este gráfico da maior suporte para entender que tipos de ocorrências são mais comuns, mas ainda sim precisa de melhor entendimento com o parceiro para tirar melhores informações deste gráfico. Entretanto, é possível ver que há muitas falhas de operação, sistema e ocorrências de manutenção, ou seja os processos definidos pela empresa podem estar mal definidos ou tem pouca eficiência, já que a empresa tem muitas vezes controle dos mesmos.\n",
    "\n",
    "- No glossário de definições a CPTM define manchete como grupo de títulos ouj chamadas de uma ocorrência\n",
    "- Importante entender que tipos de ocorrência são classificadas pela manchete de usuário"
   ]
  },
  {
   "cell_type": "code",
   "execution_count": null,
   "id": "0bab8516-8cc4-405e-b520-f8e19b4e7150",
   "metadata": {},
   "outputs": [],
   "source": [
    "contagem_classificacao = df['Classificacao Manchete'].value_counts()\n",
    "\n",
    "plt.figure(figsize=(12, 6))\n",
    "sns.barplot(x=contagem_classificacao.index, y=contagem_classificacao.values, palette='magma')\n",
    "plt.title('Ocorrências por Classificação de Manchete')\n",
    "plt.xlabel('Classificação de Manchete')\n",
    "plt.ylabel('Contagem')\n",
    "plt.xticks(rotation=45)\n",
    "plt.show()\n"
   ]
  },
  {
   "cell_type": "markdown",
   "id": "20e67b86-8a36-4ba6-b543-6056f6544f9e",
   "metadata": {},
   "source": [
    "### Análise Temporal\n",
    "\n",
    "Gráficos de linha são gerados para visualizar as ocorrências ao longo do tempo. Nesse sentido, a partir da visualização dos gráficos é possível ver que em 2019 ( de março até junho ) tiveram mais ocorrências registradas quando comparado com outras épocas de outros anos.\n",
    "\n",
    "Uma das provas desses dados é a as notícias dessa época afirmando mais panes e ocorrências na CPTM durante essa época, como a notícia do [G1](https://g1.globo.com/sp/sao-paulo/noticia/2019/03/29/panes-no-metro-e-na-cptm-crescem-150percent-no-primeiro-bimestre-de-2019.ghtml) e do [Diário Transporte](https://diariodotransporte.com.br/2019/05/05/linha-1-azul-foi-campea-de-falhas-do-metro-de-sao-paulo-em-2018-no-inicio-de-2019-maior-parte-das-falhas-ocorreu-no-monotrilho/), que fala sobre aumento significativo de panes durante o período citado a cima \n",
    "\n",
    "- O gráfico apresenta a contagem de ocorrências ao longo do tempo, permitindo a identificação de tendências e **padrões** sazonais.\n",
    "- Picos ou quedas significativas podem indicar eventos específicos ou mudanças nas operações que resultaram em mais ou menos ocorrências.\n",
    "- A visualização do gráfico tem que ser melhorada para conseguir realizar a visualização com determinado limite de datas para conseguir observar melhor a quantidade de ocorrências."
   ]
  },
  {
   "cell_type": "code",
   "execution_count": null,
   "id": "75cced49-5129-41c4-a718-5c6a79450ffa",
   "metadata": {},
   "outputs": [],
   "source": [
    "df['Data Normalizacao'] = pd.to_datetime(df['Data Normalizacao'], format='%d/%m/%Y %H:%M:%S', errors='coerce')\n",
    "\n",
    "ocorrencias_por_data = df['Data Normalizacao'].value_counts().sort_index()\n",
    "\n",
    "plt.figure(figsize=(14, 7))\n",
    "plt.plot(ocorrencias_por_data.index, ocorrencias_por_data.values, marker='o')\n",
    "plt.title('Ocorrências ao Longo do Tempo')\n",
    "plt.xlabel('Data')\n",
    "plt.ylabel('Contagem de Ocorrências')\n",
    "plt.xticks(rotation=45)\n",
    "\n",
    "plt.xlim(ocorrencias_df['Data'].min(), ocorrencias_df['Data'].max())\n",
    "\n",
    "plt.grid()\n",
    "plt.show()"
   ]
  },
  {
   "cell_type": "code",
   "execution_count": null,
   "id": "4629685d-22c4-4e38-997d-f91de352b296",
   "metadata": {},
   "outputs": [],
   "source": [
    "df['Data Normalizacao'] = pd.to_datetime(df['Data Normalizacao'], format='%d/%m/%Y %H:%M:%S', errors='coerce')\n",
    "\n",
    "ocorrencias_por_data = df['Data Normalizacao'].value_counts().sort_index()\n",
    "\n",
    "plt.figure(figsize=(14, 7))\n",
    "plt.plot(ocorrencias_por_data.index, ocorrencias_por_data.values, marker='o')\n",
    "plt.title('Ocorrências ao Longo do Tempo')\n",
    "plt.xlabel('Data')\n",
    "plt.ylabel('Contagem de Ocorrências')\n",
    "plt.xticks(rotation=45)\n",
    "\n",
    "plt.xlim(pd.Timestamp('2019-01-01'), pd.Timestamp('2022-12-31'))\n",
    "\n",
    "plt.grid()\n",
    "plt.show()"
   ]
  },
  {
   "cell_type": "code",
   "execution_count": null,
   "id": "99c2bcc7-a39e-4ddc-baca-9073cecec12d",
   "metadata": {},
   "outputs": [],
   "source": [
    "df['Data Normalizacao'] = pd.to_datetime(df['Data Normalizacao'], format='%d/%m/%Y %H:%M:%S', errors='coerce')\n",
    "\n",
    "ocorrencias_por_data = df['Data Normalizacao'].value_counts().sort_index()\n",
    "\n",
    "plt.figure(figsize=(14, 7))\n",
    "plt.plot(ocorrencias_por_data.index, ocorrencias_por_data.values, marker='o')\n",
    "plt.title('Ocorrências ao Longo do Tempo')\n",
    "plt.xlabel('Data')\n",
    "plt.ylabel('Contagem de Ocorrências')\n",
    "plt.xticks(rotation=45)\n",
    "\n",
    "plt.xlim(pd.Timestamp('2019-01-01'), pd.Timestamp('2019-12-31'))\n",
    "\n",
    "plt.grid()\n",
    "plt.show()"
   ]
  },
  {
   "cell_type": "markdown",
   "id": "c8a77f68-0caf-4ba1-bc92-830cf8b7dfa0",
   "metadata": {},
   "source": [
    "### Análise das Descrições das Ocorrências\n",
    "\n",
    "A frequência das descrições das ocorrências é calculada e visualizada em um gráfico de barras e por um print que tem melhor visualização da quantidade de vezes que essa descrição aparece. Os dados são filtrados para exibir as descrições mais frequentes, facilitando o entendimento do motivo das ocorrências. O resultado mostra que quase 83% das ocorrências parte de Dados Suprimidos ( o que dificulta a análise ) e Auxílio Social.\n",
    "\n",
    "- O gráfico e o print destacam as 10 descrições de ocorrências mais frequentes, oferecendo uma visão clara dos tipos de eventos que são mais comuns.\n",
    "- Se uma descrição é muito prevalente, isso pode sugerir uma área de foco para investigação adicional ou melhorias."
   ]
  },
  {
   "cell_type": "code",
   "execution_count": null,
   "id": "0e56f501-84cd-445b-86fd-1c58e33a0185",
   "metadata": {},
   "outputs": [],
   "source": [
    "descricao_counts = df['Desc Ocorrencia'].value_counts()\n",
    "\n",
    "for descricao, count in descricao_counts.head(10).items():\n",
    "    print(f'Descrição: {descricao}, Contagem: {count}')\n",
    "\n",
    "print()\n",
    "print(f'Total de descrições únicas: {len(descricao_counts)}')\n"
   ]
  },
  {
   "cell_type": "code",
   "execution_count": null,
   "id": "2022bd9b-a8f5-4179-82d4-72a2ce971a53",
   "metadata": {
    "scrolled": true
   },
   "outputs": [],
   "source": [
    "descricao_counts = df['Desc Ocorrencia'].value_counts().head(20)\n",
    "\n",
    "plt.figure(figsize=(14, 7))\n",
    "sns.barplot(x=descricao_counts.values, y=descricao_counts.index, palette='viridis')\n",
    "plt.title('Contagem de Ocorrências por Descrição')\n",
    "plt.xlabel('Contagem de Ocorrências')\n",
    "plt.ylabel('Descrição da Ocorrência')\n",
    "plt.grid(axis='x')\n",
    "plt.show()"
   ]
  },
  {
   "cell_type": "markdown",
   "id": "51c9716f-4feb-4083-b8b7-afcf3a57bbd7",
   "metadata": {},
   "source": [
    "### Heatmap da Média de 'Id Tipo Relevancia' por 'Id Localidade' e 'Classificacao Manchete'\n",
    "\n",
    "Este heatmap exibe a média do 'Id Tipo Relevancia' em relação a diferentes localidades e classificações de manchetes. \n",
    "\n",
    "- **Eixos**:\n",
    "  - O eixo **Y** representa as diferentes localidades identificadas por 'Id Localidade'.\n",
    "  - O eixo **X** representa as diferentes classificações de manchetes ('Classificacao Manchete').\n",
    "\n",
    "\n",
    "- **Anotações**: Os valores dentro das células mostram a média do 'Id Tipo Relevancia' correspondente a cada combinação de localidade e classificação. As células vazias, representadas pela máscara, indicam que não há dados disponíveis para essa combinação.\n",
    "\n",
    "Este gráfico facilita a identificação de localidades que têm um 'Id Tipo Relevancia' mais alto ou mais baixo em relação a diferentes classificações de manchetes, permitindo insights sobre o desempenho de relevância nas localidades analisadas além de entender quais o tipos de problemas mais aparentes para cada localidade.\n"
   ]
  },
  {
   "cell_type": "code",
   "execution_count": null,
   "id": "fb5533fe-34d0-49e0-a3d0-e28e163af059",
   "metadata": {},
   "outputs": [],
   "source": [
    "media_relevancia = df_relevancia.pivot_table(values='Id Tipo Relevancia', index='Id Localidade', columns='Classificacao Manchete', aggfunc='mean')\n",
    "plt.figure(figsize=(12, 10))\n",
    "sns.heatmap(media_relevancia, annot=True, fmt=\".1f\", cmap=\"coolwarm\", center=0, cbar_kws={'label': 'Média Id Tipo Relevancia'})  # fmt ajustado para \".1f\"\n",
    "plt.title(\"Média de Id Tipo Relevancia por Id Localidade e Classificacao Manchete\")\n",
    "plt.xlabel(\"Classificacao Manchete\")\n",
    "plt.ylabel(\"Id Localidade\")\n",
    "plt.show()"
   ]
  },
  {
   "cell_type": "markdown",
   "id": "177864d9-37e7-487e-ae62-4f93b85c5e04",
   "metadata": {},
   "source": [
    "### Heatmap de Correlação entre Colunas Numéricas Selecionadas\n",
    "\n",
    "O heatmap a seguir ilustra a correlação entre colunas numéricas selecionadas do conjunto de dados. A correlação mede a relação entre duas variáveis, que pode variar de -1 a 1.\n",
    "\n",
    "- **Eixos**:\n",
    "  - Tanto o eixo **X** quanto o eixo **Y** representam as colunas numéricas selecionadas, como 'Fl Estimados', 'Id Dataocorrencia', 'Id Localidade', 'Pass Estimados', e 'Total Ajustes'.\n",
    "\n",
    "- **Cores**: A paleta de cores \"vlag\" é usada para representar a intensidade da correlação, onde valores próximos a 1 indicam uma forte correlação positiva (as variáveis aumentam juntas) e valores próximos a -1 indicam uma forte correlação negativa (uma variável aumenta enquanto a outra diminui). Valores próximos a 0 indicam pouca ou nenhuma correlação.\n",
    "\n",
    "- **Anotações**: As células mostram os valores de correlação entre as variáveis, facilitando a identificação de relações significativas. Por exemplo, uma correlação alta entre 'Fl Estimados' e 'Pass Estimados' pode indicar que um aumento em estimativas de um resulta em um aumento nas estimativas do outro.\n",
    "\n",
    "Este gráfico é valioso para entender como as variáveis numéricas interagem entre si e pode guiar decisões de análise e modelagem de dados.\n"
   ]
  },
  {
   "cell_type": "code",
   "execution_count": null,
   "id": "dc487cdd-f800-40ee-86a3-596fba85e97f",
   "metadata": {},
   "outputs": [],
   "source": [
    "colunas_numericas = ['Fl Estimados', 'Id Dataocorrencia', 'Id Localidade', 'Pass Estimados', 'Total Ajustes']\n",
    "correlacao = df[colunas_numericas].corr()\n",
    "\n",
    "mask = np.isnan(correlacao)\n",
    "\n",
    "plt.figure(figsize=(8, 6))\n",
    "sns.heatmap(correlacao, annot=True, cmap=\"vlag\", center=0, mask=mask, cbar_kws={'label': 'Correlação'})\n",
    "plt.title(\"Correlação entre Colunas Numéricas Selecionadas\")\n",
    "plt.show()"
   ]
  },
  {
   "cell_type": "markdown",
   "id": "dc23eb19-6236-4ea5-9a56-4be3701f8a9f",
   "metadata": {},
   "source": [
    "### Heatmap Geral de Correlação entre Variáveis Numéricas\n",
    "\n",
    "Este heatmap apresenta a correlação entre todas as variáveis numéricas do conjunto de dados. A correlação é uma medida que indica a relação entre duas variáveis, com valores que variam de -1 a 1.\n",
    "\n",
    "- **Eixos**:\n",
    "  - Tanto o eixo **X** quanto o eixo **Y** representam as variáveis numéricas do conjunto de dados.\n",
    "\n",
    "- **Cores**: A paleta de cores \"coolwarm\" é utilizada, onde cores mais quentes (vermelhas) indicam uma correlação positiva mais forte, enquanto cores mais frias (azuis) indicam uma correlação negativa mais forte. As células brancas indicam correlações próximas de 0, sugerindo pouca ou nenhuma relação entre as variáveis.\n",
    "\n",
    "- **Anotações**: Cada célula contém o valor numérico da correlação entre as duas variáveis correspondentes, facilitando a identificação de relações significativas entre elas."
   ]
  },
  {
   "cell_type": "code",
   "execution_count": null,
   "id": "fff82fa6-518e-4d1a-89d4-1c67db5aea8d",
   "metadata": {},
   "outputs": [],
   "source": [
    "df_numerico = df.select_dtypes(include=['number'])\n",
    "\n",
    "correlacao_geral = df_numerico.corr()\n",
    "\n",
    "plt.figure(figsize=(14, 10))\n",
    "sns.heatmap(correlacao_geral, annot=True, fmt=\".2f\", cmap=\"coolwarm\", center=0, cbar_kws={'label': 'Correlação'})\n",
    "plt.title(\"Heatmap Geral de Correlação entre Variáveis Numéricas\")\n",
    "plt.xticks(rotation=45)\n",
    "plt.yticks(rotation=0)\n",
    "plt.show()"
   ]
  },
  {
   "cell_type": "markdown",
   "id": "355c0c13-c613-4451-af41-1fbd4b10e34e",
   "metadata": {},
   "source": [
    "### Convertendo o Arquivo para Parquet"
   ]
  },
  {
   "cell_type": "code",
   "execution_count": null,
   "id": "239092d5-00af-4144-8114-acedca3e109a",
   "metadata": {},
   "outputs": [],
   "source": [
    "%pip install pyarrow\n"
   ]
  },
  {
   "cell_type": "code",
   "execution_count": null,
   "id": "78858e4d-caef-4c15-8e5c-c7f17d002bf2",
   "metadata": {},
   "outputs": [],
   "source": [
    "%pip install pyarrow\n",
    "import pyarrow.parquet as pq\n",
    "\n",
    "df.to_parquet('FT_OCORRENCIAS')"
   ]
  },
  {
   "cell_type": "markdown",
   "id": "e523946b-e857-448f-a614-a43b6ac41fd4",
   "metadata": {},
   "source": [
    "### Hipóteses\n",
    "\n",
    "&emsp;&emsp;A análise exploratória de dados da tabela FT_OCORRENCIAS permite levantar as seguintes hipóteses, baseadas nos padrões e nas distribuições de ocorrências observados:\n",
    "\n",
    "**Elevado Volume de Ocorrências de Falhas Operacionais e de Sistema:** A alta incidência de ocorrências relacionadas a falhas operacionais, de sistema e de manutenção pode indicar uma insuficiência nos processos internos de controle e operação da CPTM. Uma possível explicação é a falta de manutenção preventiva ou treinamento insuficiente, resultando em mais problemas técnicos. Este dado pode ser corroborado pelo fato de que grande parte das ocorrências identificadas possui impacto direto na operação, possivelmente comprometendo a eficiência do sistema.\n",
    "\n",
    "**Impacto das Condições Externas e Econômicas nas Ocorrências:** Com base na análise temporal, é perceptível um aumento significativo de ocorrências no período de março a junho de 2019. Esta elevação pode estar associada a eventos externos ou a fatores sazonais que afetaram a operação. Como citado nas notícias da época, o aumento de panes pode estar relacionado a um possível aumento de uso do sistema ferroviário ou a uma sobrecarga nos equipamentos, o que resultou em mais registros de falhas.\n",
    "\n",
    "**A Relevância dos Dados Ocultos e do Auxílio Social:** Observa-se que mais de 80% das ocorrências são descritas como “Dados Suprimidos” ou “Auxílio Social”. A presença de “Dados Suprimidos” como uma descrição predominante limita a capacidade de análise, pois representa uma quantidade significativa de dados que não estão claramente documentados. Já o “Auxílio Social” pode estar associado a uma demanda adicional de apoio dentro das estações e sistemas, sugerindo possíveis deficiências na gestão do atendimento social.\n",
    "\n",
    "**Importância de Especificar a Relevância das Ocorrências:** Uma grande parte das ocorrências é registrada com a relevância -1, indicando uma falta de classificação detalhada sobre a importância dos eventos. Isso pode prejudicar a priorização de manutenção e resolução de falhas. A ausência de uma classificação clara sugere uma possível necessidade de padronização ou de revisão do sistema de categorização, visando tornar mais fácil a análise e o tratamento diferenciado das ocorrências com maior impacto.\n",
    "\n",
    "## Conclusão\n",
    "\n",
    "&emsp;&emsp;A análise da tabela FT_OCORRENCIAS revela padrões importantes e destaca áreas de atenção para a CPTM. Primeiramente, as falhas recorrentes, especialmente aquelas associadas à operação e ao sistema, sugerem possíveis lacunas em processos internos e reforçam a necessidade de investimentos em infraestrutura e manutenção preventiva. A análise temporal dos dados indica que há períodos de pico de ocorrências, como observado entre março e junho de 2019, que podem estar relacionados a mudanças sazonais ou a eventos específicos. Além disso, a predominância de registros classificados como “Dados Suprimidos” impede uma análise completa das ocorrências e dificulta o direcionamento de melhorias. Tais dados evidenciam a necessidade de uma revisão na documentação das ocorrências, para que sejam mais detalhadas e para que informações vitais não sejam omitidas, o que poderia enriquecer a análise e permitir uma resposta mais eficiente às demandas do sistema.\n",
    "\n",
    "&emsp;Por fim, a análise de relevância das ocorrências sugere a importância de um sistema de categorização mais preciso. A falta de um entendimento detalhado da relevância de cada evento torna a análise superficial e impede que as decisões de gestão de falhas e de processos sejam baseadas em informações prioritárias. A implementação de classificações mais granulares, aliada a um treinamento mais adequado para a equipe responsável pelo registro de ocorrências, é recomendada para otimizar a análise futura e possibilitar uma gestão mais eficiente e proativa do sistema ferroviário."
   ]
  }
 ],
 "metadata": {
  "kernelspec": {
   "display_name": "Python 3 (ipykernel)",
   "language": "python",
   "name": "python3"
  },
  "language_info": {
   "codemirror_mode": {
    "name": "ipython",
    "version": 3
   },
   "file_extension": ".py",
   "mimetype": "text/x-python",
   "name": "python",
   "nbconvert_exporter": "python",
   "pygments_lexer": "ipython3",
   "version": "3.12.7"
  }
 },
 "nbformat": 4,
 "nbformat_minor": 5
}
